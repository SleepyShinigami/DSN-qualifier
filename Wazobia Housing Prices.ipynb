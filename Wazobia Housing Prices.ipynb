{
 "cells": [
  {
   "cell_type": "code",
   "execution_count": 1,
   "id": "6d1d5613",
   "metadata": {},
   "outputs": [],
   "source": [
    "import pandas as pd\n",
    "import numpy as np\n",
    "import seaborn as sns\n",
    "import matplotlib.pyplot as plt\n",
    "from sklearn.linear_model import LinearRegression\n",
    "from sklearn.neighbors import KNeighborsRegressor\n",
    "from sklearn.ensemble import RandomForestRegressor\n",
    "from sklearn.tree import DecisionTreeRegressor\n",
    "from sklearn.preprocessing import LabelEncoder, OneHotEncoder"
   ]
  },
  {
   "cell_type": "code",
   "execution_count": 2,
   "id": "d0254253",
   "metadata": {},
   "outputs": [],
   "source": [
    "def get_rmse(line, actual):\n",
    "    error = [x-y for x, y in zip(line, actual)]\n",
    "    err_sq =[value**2 for value in error]\n",
    "    rmse = np.sqrt(np.mean(err_sq))\n",
    "    return(rmse)\n",
    "    "
   ]
  },
  {
   "cell_type": "code",
   "execution_count": 3,
   "id": "937db3d5",
   "metadata": {},
   "outputs": [],
   "source": [
    "df = pd.read_csv('Housing_dataset_train.csv')"
   ]
  },
  {
   "cell_type": "code",
   "execution_count": 4,
   "id": "75809151",
   "metadata": {},
   "outputs": [
    {
     "data": {
      "text/html": [
       "<div>\n",
       "<style scoped>\n",
       "    .dataframe tbody tr th:only-of-type {\n",
       "        vertical-align: middle;\n",
       "    }\n",
       "\n",
       "    .dataframe tbody tr th {\n",
       "        vertical-align: top;\n",
       "    }\n",
       "\n",
       "    .dataframe thead th {\n",
       "        text-align: right;\n",
       "    }\n",
       "</style>\n",
       "<table border=\"1\" class=\"dataframe\">\n",
       "  <thead>\n",
       "    <tr style=\"text-align: right;\">\n",
       "      <th></th>\n",
       "      <th>ID</th>\n",
       "      <th>loc</th>\n",
       "      <th>title</th>\n",
       "      <th>bedroom</th>\n",
       "      <th>bathroom</th>\n",
       "      <th>parking_space</th>\n",
       "      <th>price</th>\n",
       "    </tr>\n",
       "  </thead>\n",
       "  <tbody>\n",
       "    <tr>\n",
       "      <th>0</th>\n",
       "      <td>3583</td>\n",
       "      <td>Katsina</td>\n",
       "      <td>Semi-detached duplex</td>\n",
       "      <td>2.0</td>\n",
       "      <td>2.0</td>\n",
       "      <td>1.0</td>\n",
       "      <td>1149999.565</td>\n",
       "    </tr>\n",
       "    <tr>\n",
       "      <th>1</th>\n",
       "      <td>2748</td>\n",
       "      <td>Ondo</td>\n",
       "      <td>Apartment</td>\n",
       "      <td>NaN</td>\n",
       "      <td>2.0</td>\n",
       "      <td>4.0</td>\n",
       "      <td>1672416.689</td>\n",
       "    </tr>\n",
       "    <tr>\n",
       "      <th>2</th>\n",
       "      <td>9261</td>\n",
       "      <td>Ekiti</td>\n",
       "      <td>NaN</td>\n",
       "      <td>7.0</td>\n",
       "      <td>5.0</td>\n",
       "      <td>NaN</td>\n",
       "      <td>3364799.814</td>\n",
       "    </tr>\n",
       "    <tr>\n",
       "      <th>3</th>\n",
       "      <td>2224</td>\n",
       "      <td>Anambra</td>\n",
       "      <td>Detached duplex</td>\n",
       "      <td>5.0</td>\n",
       "      <td>2.0</td>\n",
       "      <td>4.0</td>\n",
       "      <td>2410306.756</td>\n",
       "    </tr>\n",
       "    <tr>\n",
       "      <th>4</th>\n",
       "      <td>10300</td>\n",
       "      <td>Kogi</td>\n",
       "      <td>Terrace duplex</td>\n",
       "      <td>NaN</td>\n",
       "      <td>5.0</td>\n",
       "      <td>6.0</td>\n",
       "      <td>2600700.898</td>\n",
       "    </tr>\n",
       "    <tr>\n",
       "      <th>...</th>\n",
       "      <td>...</td>\n",
       "      <td>...</td>\n",
       "      <td>...</td>\n",
       "      <td>...</td>\n",
       "      <td>...</td>\n",
       "      <td>...</td>\n",
       "      <td>...</td>\n",
       "    </tr>\n",
       "    <tr>\n",
       "      <th>13995</th>\n",
       "      <td>6175</td>\n",
       "      <td>Edo</td>\n",
       "      <td>Bungalow</td>\n",
       "      <td>NaN</td>\n",
       "      <td>7.0</td>\n",
       "      <td>NaN</td>\n",
       "      <td>2367927.861</td>\n",
       "    </tr>\n",
       "    <tr>\n",
       "      <th>13996</th>\n",
       "      <td>9704</td>\n",
       "      <td>Kaduna</td>\n",
       "      <td>Apartment</td>\n",
       "      <td>NaN</td>\n",
       "      <td>7.0</td>\n",
       "      <td>5.0</td>\n",
       "      <td>2228516.471</td>\n",
       "    </tr>\n",
       "    <tr>\n",
       "      <th>13997</th>\n",
       "      <td>11190</td>\n",
       "      <td>Plateau</td>\n",
       "      <td>Bungalow</td>\n",
       "      <td>8.0</td>\n",
       "      <td>6.0</td>\n",
       "      <td>5.0</td>\n",
       "      <td>2406812.693</td>\n",
       "    </tr>\n",
       "    <tr>\n",
       "      <th>13998</th>\n",
       "      <td>9256</td>\n",
       "      <td>Delta</td>\n",
       "      <td>Flat</td>\n",
       "      <td>NaN</td>\n",
       "      <td>6.0</td>\n",
       "      <td>1.0</td>\n",
       "      <td>3348918.718</td>\n",
       "    </tr>\n",
       "    <tr>\n",
       "      <th>13999</th>\n",
       "      <td>8787</td>\n",
       "      <td>Nasarawa</td>\n",
       "      <td>NaN</td>\n",
       "      <td>9.0</td>\n",
       "      <td>7.0</td>\n",
       "      <td>5.0</td>\n",
       "      <td>2858516.890</td>\n",
       "    </tr>\n",
       "  </tbody>\n",
       "</table>\n",
       "<p>14000 rows × 7 columns</p>\n",
       "</div>"
      ],
      "text/plain": [
       "          ID       loc                 title  bedroom  bathroom  \\\n",
       "0       3583   Katsina  Semi-detached duplex      2.0       2.0   \n",
       "1       2748      Ondo             Apartment      NaN       2.0   \n",
       "2       9261     Ekiti                   NaN      7.0       5.0   \n",
       "3       2224   Anambra       Detached duplex      5.0       2.0   \n",
       "4      10300      Kogi        Terrace duplex      NaN       5.0   \n",
       "...      ...       ...                   ...      ...       ...   \n",
       "13995   6175       Edo              Bungalow      NaN       7.0   \n",
       "13996   9704    Kaduna             Apartment      NaN       7.0   \n",
       "13997  11190   Plateau              Bungalow      8.0       6.0   \n",
       "13998   9256     Delta                  Flat      NaN       6.0   \n",
       "13999   8787  Nasarawa                   NaN      9.0       7.0   \n",
       "\n",
       "       parking_space        price  \n",
       "0                1.0  1149999.565  \n",
       "1                4.0  1672416.689  \n",
       "2                NaN  3364799.814  \n",
       "3                4.0  2410306.756  \n",
       "4                6.0  2600700.898  \n",
       "...              ...          ...  \n",
       "13995            NaN  2367927.861  \n",
       "13996            5.0  2228516.471  \n",
       "13997            5.0  2406812.693  \n",
       "13998            1.0  3348918.718  \n",
       "13999            5.0  2858516.890  \n",
       "\n",
       "[14000 rows x 7 columns]"
      ]
     },
     "execution_count": 4,
     "metadata": {},
     "output_type": "execute_result"
    }
   ],
   "source": [
    "df"
   ]
  },
  {
   "cell_type": "code",
   "execution_count": 5,
   "id": "bbb35d53",
   "metadata": {},
   "outputs": [
    {
     "data": {
      "text/html": [
       "<div>\n",
       "<style scoped>\n",
       "    .dataframe tbody tr th:only-of-type {\n",
       "        vertical-align: middle;\n",
       "    }\n",
       "\n",
       "    .dataframe tbody tr th {\n",
       "        vertical-align: top;\n",
       "    }\n",
       "\n",
       "    .dataframe thead th {\n",
       "        text-align: right;\n",
       "    }\n",
       "</style>\n",
       "<table border=\"1\" class=\"dataframe\">\n",
       "  <thead>\n",
       "    <tr style=\"text-align: right;\">\n",
       "      <th></th>\n",
       "      <th>ID</th>\n",
       "      <th>bedroom</th>\n",
       "      <th>bathroom</th>\n",
       "      <th>parking_space</th>\n",
       "      <th>price</th>\n",
       "    </tr>\n",
       "  </thead>\n",
       "  <tbody>\n",
       "    <tr>\n",
       "      <th>count</th>\n",
       "      <td>14000.000000</td>\n",
       "      <td>12201.000000</td>\n",
       "      <td>12195.000000</td>\n",
       "      <td>12189.000000</td>\n",
       "      <td>1.400000e+04</td>\n",
       "    </tr>\n",
       "    <tr>\n",
       "      <th>mean</th>\n",
       "      <td>4862.700357</td>\n",
       "      <td>4.308171</td>\n",
       "      <td>3.134235</td>\n",
       "      <td>3.169825</td>\n",
       "      <td>2.138082e+06</td>\n",
       "    </tr>\n",
       "    <tr>\n",
       "      <th>std</th>\n",
       "      <td>3818.348214</td>\n",
       "      <td>2.441165</td>\n",
       "      <td>2.035950</td>\n",
       "      <td>1.599415</td>\n",
       "      <td>1.083057e+06</td>\n",
       "    </tr>\n",
       "    <tr>\n",
       "      <th>min</th>\n",
       "      <td>0.000000</td>\n",
       "      <td>1.000000</td>\n",
       "      <td>1.000000</td>\n",
       "      <td>1.000000</td>\n",
       "      <td>4.319673e+05</td>\n",
       "    </tr>\n",
       "    <tr>\n",
       "      <th>25%</th>\n",
       "      <td>1672.750000</td>\n",
       "      <td>2.000000</td>\n",
       "      <td>1.000000</td>\n",
       "      <td>2.000000</td>\n",
       "      <td>1.393990e+06</td>\n",
       "    </tr>\n",
       "    <tr>\n",
       "      <th>50%</th>\n",
       "      <td>3527.000000</td>\n",
       "      <td>4.000000</td>\n",
       "      <td>2.000000</td>\n",
       "      <td>3.000000</td>\n",
       "      <td>1.895223e+06</td>\n",
       "    </tr>\n",
       "    <tr>\n",
       "      <th>75%</th>\n",
       "      <td>8011.250000</td>\n",
       "      <td>6.000000</td>\n",
       "      <td>5.000000</td>\n",
       "      <td>4.000000</td>\n",
       "      <td>2.586699e+06</td>\n",
       "    </tr>\n",
       "    <tr>\n",
       "      <th>max</th>\n",
       "      <td>12999.000000</td>\n",
       "      <td>9.000000</td>\n",
       "      <td>7.000000</td>\n",
       "      <td>6.000000</td>\n",
       "      <td>1.656849e+07</td>\n",
       "    </tr>\n",
       "  </tbody>\n",
       "</table>\n",
       "</div>"
      ],
      "text/plain": [
       "                 ID       bedroom      bathroom  parking_space         price\n",
       "count  14000.000000  12201.000000  12195.000000   12189.000000  1.400000e+04\n",
       "mean    4862.700357      4.308171      3.134235       3.169825  2.138082e+06\n",
       "std     3818.348214      2.441165      2.035950       1.599415  1.083057e+06\n",
       "min        0.000000      1.000000      1.000000       1.000000  4.319673e+05\n",
       "25%     1672.750000      2.000000      1.000000       2.000000  1.393990e+06\n",
       "50%     3527.000000      4.000000      2.000000       3.000000  1.895223e+06\n",
       "75%     8011.250000      6.000000      5.000000       4.000000  2.586699e+06\n",
       "max    12999.000000      9.000000      7.000000       6.000000  1.656849e+07"
      ]
     },
     "execution_count": 5,
     "metadata": {},
     "output_type": "execute_result"
    }
   ],
   "source": [
    "df.describe()"
   ]
  },
  {
   "cell_type": "code",
   "execution_count": 6,
   "id": "8f890503",
   "metadata": {},
   "outputs": [
    {
     "name": "stdout",
     "output_type": "stream",
     "text": [
      "<class 'pandas.core.frame.DataFrame'>\n",
      "RangeIndex: 14000 entries, 0 to 13999\n",
      "Data columns (total 7 columns):\n",
      " #   Column         Non-Null Count  Dtype  \n",
      "---  ------         --------------  -----  \n",
      " 0   ID             14000 non-null  int64  \n",
      " 1   loc            12187 non-null  object \n",
      " 2   title          12278 non-null  object \n",
      " 3   bedroom        12201 non-null  float64\n",
      " 4   bathroom       12195 non-null  float64\n",
      " 5   parking_space  12189 non-null  float64\n",
      " 6   price          14000 non-null  float64\n",
      "dtypes: float64(4), int64(1), object(2)\n",
      "memory usage: 765.8+ KB\n"
     ]
    }
   ],
   "source": [
    "df.info()"
   ]
  },
  {
   "cell_type": "code",
   "execution_count": 7,
   "id": "8222cfed",
   "metadata": {},
   "outputs": [
    {
     "data": {
      "text/plain": [
       "ID                  0\n",
       "loc              1813\n",
       "title            1722\n",
       "bedroom          1799\n",
       "bathroom         1805\n",
       "parking_space    1811\n",
       "price               0\n",
       "dtype: int64"
      ]
     },
     "execution_count": 7,
     "metadata": {},
     "output_type": "execute_result"
    }
   ],
   "source": [
    "df.isnull().sum()"
   ]
  },
  {
   "cell_type": "code",
   "execution_count": 8,
   "id": "4b6a20ef",
   "metadata": {},
   "outputs": [
    {
     "data": {
      "text/plain": [
       "Index(['ID', 'loc', 'title', 'bedroom', 'bathroom', 'parking_space', 'price'], dtype='object')"
      ]
     },
     "execution_count": 8,
     "metadata": {},
     "output_type": "execute_result"
    }
   ],
   "source": [
    "df.columns\n"
   ]
  },
  {
   "cell_type": "code",
   "execution_count": 9,
   "id": "192971c7",
   "metadata": {},
   "outputs": [
    {
     "data": {
      "text/plain": [
       "<Axes: >"
      ]
     },
     "execution_count": 9,
     "metadata": {},
     "output_type": "execute_result"
    },
    {
     "data": {
      "image/png": "[encoded data removed]",
      "text/plain": [
       "<Figure size 640x480 with 1 Axes>"
      ]
     },
     "metadata": {},
     "output_type": "display_data"
    }
   ],
   "source": [
    "sns.boxplot(df['price'], whis=0.2, width=0.4)"
   ]
  },
  {
   "cell_type": "code",
   "execution_count": 10,
   "id": "ef4e4d0a",
   "metadata": {},
   "outputs": [
    {
     "data": {
      "text/plain": [
       "<Axes: xlabel='count', ylabel='loc'>"
      ]
     },
     "execution_count": 10,
     "metadata": {},
     "output_type": "execute_result"
    },
    {
     "data": {
      "image/png": "[encoded data removed]",
      "text/plain": [
       "<Figure size 640x480 with 1 Axes>"
      ]
     },
     "metadata": {},
     "output_type": "display_data"
    }
   ],
   "source": [
    "sns.countplot(y='loc', data=df)"
   ]
  },
  {
   "cell_type": "code",
   "execution_count": 11,
   "id": "14c8cef7",
   "metadata": {},
   "outputs": [
    {
     "data": {
      "text/plain": [
       "4375764.45875"
      ]
     },
     "execution_count": 11,
     "metadata": {},
     "output_type": "execute_result"
    }
   ],
   "source": [
    "IQR= df['price'].quantile(.75)-df['price'].quantile(.25)\n",
    "max_price = df['price'].quantile(.75)+(1.5*IQR)\n",
    "max_price"
   ]
  },
  {
   "cell_type": "code",
   "execution_count": 12,
   "id": "4bdfa4ac",
   "metadata": {},
   "outputs": [],
   "source": [
    "df_fliers = df.loc[df['price']>max_price]"
   ]
  },
  {
   "cell_type": "code",
   "execution_count": 13,
   "id": "40b9b26f",
   "metadata": {},
   "outputs": [
    {
     "data": {
      "text/html": [
       "<div>\n",
       "<style scoped>\n",
       "    .dataframe tbody tr th:only-of-type {\n",
       "        vertical-align: middle;\n",
       "    }\n",
       "\n",
       "    .dataframe tbody tr th {\n",
       "        vertical-align: top;\n",
       "    }\n",
       "\n",
       "    .dataframe thead th {\n",
       "        text-align: right;\n",
       "    }\n",
       "</style>\n",
       "<table border=\"1\" class=\"dataframe\">\n",
       "  <thead>\n",
       "    <tr style=\"text-align: right;\">\n",
       "      <th></th>\n",
       "      <th>ID</th>\n",
       "      <th>bedroom</th>\n",
       "      <th>bathroom</th>\n",
       "      <th>parking_space</th>\n",
       "      <th>price</th>\n",
       "    </tr>\n",
       "  </thead>\n",
       "  <tbody>\n",
       "    <tr>\n",
       "      <th>count</th>\n",
       "      <td>568.000000</td>\n",
       "      <td>493.000000</td>\n",
       "      <td>489.000000</td>\n",
       "      <td>495.000000</td>\n",
       "      <td>5.680000e+02</td>\n",
       "    </tr>\n",
       "    <tr>\n",
       "      <th>mean</th>\n",
       "      <td>5209.612676</td>\n",
       "      <td>6.320487</td>\n",
       "      <td>3.617587</td>\n",
       "      <td>3.264646</td>\n",
       "      <td>5.487969e+06</td>\n",
       "    </tr>\n",
       "    <tr>\n",
       "      <th>std</th>\n",
       "      <td>3743.516673</td>\n",
       "      <td>2.310881</td>\n",
       "      <td>2.126862</td>\n",
       "      <td>1.638561</td>\n",
       "      <td>1.505151e+06</td>\n",
       "    </tr>\n",
       "    <tr>\n",
       "      <th>min</th>\n",
       "      <td>16.000000</td>\n",
       "      <td>1.000000</td>\n",
       "      <td>1.000000</td>\n",
       "      <td>1.000000</td>\n",
       "      <td>4.375863e+06</td>\n",
       "    </tr>\n",
       "    <tr>\n",
       "      <th>25%</th>\n",
       "      <td>2087.250000</td>\n",
       "      <td>5.000000</td>\n",
       "      <td>2.000000</td>\n",
       "      <td>2.000000</td>\n",
       "      <td>4.686034e+06</td>\n",
       "    </tr>\n",
       "    <tr>\n",
       "      <th>50%</th>\n",
       "      <td>4244.000000</td>\n",
       "      <td>7.000000</td>\n",
       "      <td>3.000000</td>\n",
       "      <td>3.000000</td>\n",
       "      <td>5.037924e+06</td>\n",
       "    </tr>\n",
       "    <tr>\n",
       "      <th>75%</th>\n",
       "      <td>8330.000000</td>\n",
       "      <td>8.000000</td>\n",
       "      <td>6.000000</td>\n",
       "      <td>5.000000</td>\n",
       "      <td>5.789034e+06</td>\n",
       "    </tr>\n",
       "    <tr>\n",
       "      <th>max</th>\n",
       "      <td>12964.000000</td>\n",
       "      <td>9.000000</td>\n",
       "      <td>7.000000</td>\n",
       "      <td>6.000000</td>\n",
       "      <td>1.656849e+07</td>\n",
       "    </tr>\n",
       "  </tbody>\n",
       "</table>\n",
       "</div>"
      ],
      "text/plain": [
       "                 ID     bedroom    bathroom  parking_space         price\n",
       "count    568.000000  493.000000  489.000000     495.000000  5.680000e+02\n",
       "mean    5209.612676    6.320487    3.617587       3.264646  5.487969e+06\n",
       "std     3743.516673    2.310881    2.126862       1.638561  1.505151e+06\n",
       "min       16.000000    1.000000    1.000000       1.000000  4.375863e+06\n",
       "25%     2087.250000    5.000000    2.000000       2.000000  4.686034e+06\n",
       "50%     4244.000000    7.000000    3.000000       3.000000  5.037924e+06\n",
       "75%     8330.000000    8.000000    6.000000       5.000000  5.789034e+06\n",
       "max    12964.000000    9.000000    7.000000       6.000000  1.656849e+07"
      ]
     },
     "execution_count": 13,
     "metadata": {},
     "output_type": "execute_result"
    }
   ],
   "source": [
    "df_fliers.describe()"
   ]
  },
  {
   "cell_type": "code",
   "execution_count": 14,
   "id": "5cb13770",
   "metadata": {},
   "outputs": [
    {
     "data": {
      "text/plain": [
       "<Axes: xlabel='count', ylabel='loc'>"
      ]
     },
     "execution_count": 14,
     "metadata": {},
     "output_type": "execute_result"
    },
    {
     "data": {
      "image/png": "[encoded data removed]",
      "text/plain": [
       "<Figure size 640x480 with 1 Axes>"
      ]
     },
     "metadata": {},
     "output_type": "display_data"
    }
   ],
   "source": [
    "sns.countplot(y= df_fliers['loc'])"
   ]
  },
  {
   "cell_type": "code",
   "execution_count": 15,
   "id": "48ebad30",
   "metadata": {},
   "outputs": [],
   "source": [
    "# If your home exceeds 4.3 million, it's most likely in Lagos."
   ]
  },
  {
   "cell_type": "code",
   "execution_count": 16,
   "id": "778e8642",
   "metadata": {},
   "outputs": [
    {
     "data": {
      "text/plain": [
       "<Axes: xlabel='count', ylabel='title'>"
      ]
     },
     "execution_count": 16,
     "metadata": {},
     "output_type": "execute_result"
    },
    {
     "data": {
      "image/png": "[encoded data removed]",
      "text/plain": [
       "<Figure size 640x480 with 1 Axes>"
      ]
     },
     "metadata": {},
     "output_type": "display_data"
    }
   ],
   "source": [
    "sns.countplot(y=df['title'])"
   ]
  },
  {
   "cell_type": "code",
   "execution_count": 17,
   "id": "30d7f452",
   "metadata": {
    "scrolled": true
   },
   "outputs": [
    {
     "data": {
      "text/plain": [
       "<Axes: xlabel='count', ylabel='title'>"
      ]
     },
     "execution_count": 17,
     "metadata": {},
     "output_type": "execute_result"
    },
    {
     "data": {
      "image/png": "[encoded data removed]",
      "text/plain": [
       "<Figure size 640x480 with 1 Axes>"
      ]
     },
     "metadata": {},
     "output_type": "display_data"
    }
   ],
   "source": [
    "sns.countplot(y = df_fliers['title'])"
   ]
  },
  {
   "cell_type": "code",
   "execution_count": 18,
   "id": "0a62ff22",
   "metadata": {},
   "outputs": [],
   "source": [
    "# Mansions Dominate the outliers"
   ]
  },
  {
   "cell_type": "code",
   "execution_count": 19,
   "id": "97b31b78",
   "metadata": {},
   "outputs": [],
   "source": [
    "df_norm = df.loc[df['price'] <= max_price]"
   ]
  },
  {
   "cell_type": "code",
   "execution_count": 20,
   "id": "83d440ba",
   "metadata": {
    "scrolled": true
   },
   "outputs": [
    {
     "data": {
      "text/plain": [
       "<Axes: xlabel='count', ylabel='loc'>"
      ]
     },
     "execution_count": 20,
     "metadata": {},
     "output_type": "execute_result"
    },
    {
     "data": {
      "image/png": "[encoded data removed]",
      "text/plain": [
       "<Figure size 640x480 with 1 Axes>"
      ]
     },
     "metadata": {},
     "output_type": "display_data"
    }
   ],
   "source": [
    "sns.countplot(y = df_norm['loc'])"
   ]
  },
  {
   "cell_type": "code",
   "execution_count": 21,
   "id": "10d50373",
   "metadata": {},
   "outputs": [],
   "source": [
    "#Half of all Lagos homes are outliers"
   ]
  },
  {
   "cell_type": "code",
   "execution_count": 22,
   "id": "9e97ff3b",
   "metadata": {},
   "outputs": [],
   "source": [
    "def info(data):\n",
    "    fig, ax = plt.subplots(1, 2)\n",
    "    x = sns.countplot(x='bedroom', data=data, ax=ax[0])\n",
    "    y = sns.countplot(x='bathroom', data=data, ax=ax[1])\n",
    "    return x,y"
   ]
  },
  {
   "cell_type": "code",
   "execution_count": 23,
   "id": "56c73246",
   "metadata": {},
   "outputs": [
    {
     "data": {
      "text/plain": [
       "(<Axes: xlabel='bedroom', ylabel='count'>,\n",
       " <Axes: xlabel='bathroom', ylabel='count'>)"
      ]
     },
     "execution_count": 23,
     "metadata": {},
     "output_type": "execute_result"
    },
    {
     "data": {
      "image/png": "[encoded data removed]",
      "text/plain": [
       "<Figure size 640x480 with 2 Axes>"
      ]
     },
     "metadata": {},
     "output_type": "display_data"
    }
   ],
   "source": [
    "info(df) # Most homes generally have btw 1-5 bedrooms and around 2 bathrooms"
   ]
  },
  {
   "cell_type": "code",
   "execution_count": 24,
   "id": "4a9e02a5",
   "metadata": {},
   "outputs": [
    {
     "data": {
      "text/plain": [
       "(<Axes: xlabel='bedroom', ylabel='count'>,\n",
       " <Axes: xlabel='bathroom', ylabel='count'>)"
      ]
     },
     "execution_count": 24,
     "metadata": {},
     "output_type": "execute_result"
    },
    {
     "data": {
      "image/png": "[encoded data removed]",
      "text/plain": [
       "<Figure size 640x480 with 2 Axes>"
      ]
     },
     "metadata": {},
     "output_type": "display_data"
    }
   ],
   "source": [
    "info(df_fliers) # Homes in this category have > 5 bedroom and still median out at around 2 bathrooms"
   ]
  },
  {
   "cell_type": "code",
   "execution_count": 25,
   "id": "c3aa09ad",
   "metadata": {},
   "outputs": [
    {
     "data": {
      "text/plain": [
       "(<Axes: xlabel='bedroom', ylabel='count'>,\n",
       " <Axes: xlabel='bathroom', ylabel='count'>)"
      ]
     },
     "execution_count": 25,
     "metadata": {},
     "output_type": "execute_result"
    },
    {
     "data": {
      "image/png": "[encoded data removed]",
      "text/plain": [
       "<Figure size 640x480 with 2 Axes>"
      ]
     },
     "metadata": {},
     "output_type": "display_data"
    }
   ],
   "source": [
    "info(df_norm)"
   ]
  },
  {
   "cell_type": "code",
   "execution_count": 26,
   "id": "9734a936",
   "metadata": {},
   "outputs": [
    {
     "data": {
      "text/plain": [
       "ID                0\n",
       "loc              79\n",
       "title            73\n",
       "bedroom          75\n",
       "bathroom         79\n",
       "parking_space    73\n",
       "price             0\n",
       "dtype: int64"
      ]
     },
     "execution_count": 26,
     "metadata": {},
     "output_type": "execute_result"
    }
   ],
   "source": [
    "df_fliers.isnull().sum()"
   ]
  },
  {
   "cell_type": "code",
   "execution_count": 27,
   "id": "4eb780dd",
   "metadata": {},
   "outputs": [],
   "source": [
    "def averages(data):\n",
    "    averages = {'mean_bedroom':data['bedroom'].mean(),\n",
    "                'median_bedroom':data['bedroom'].median(),\n",
    "                'mean_bathroom':data['bathroom'].mean(),\n",
    "                'median_bathroom':data['bathroom'].median(),\n",
    "                'mean_parking':data['parking_space'].mean(),\n",
    "                'median_parking':data['parking_space'].median(),\n",
    "               }\n",
    "    return averages\n",
    "    "
   ]
  },
  {
   "cell_type": "code",
   "execution_count": 28,
   "id": "0752b08b",
   "metadata": {},
   "outputs": [
    {
     "data": {
      "text/plain": [
       "{'mean_bedroom': 6.320486815415822,\n",
       " 'median_bedroom': 7.0,\n",
       " 'mean_bathroom': 3.61758691206544,\n",
       " 'median_bathroom': 3.0,\n",
       " 'mean_parking': 3.264646464646465,\n",
       " 'median_parking': 3.0}"
      ]
     },
     "execution_count": 28,
     "metadata": {},
     "output_type": "execute_result"
    }
   ],
   "source": [
    "averages(df_fliers)"
   ]
  },
  {
   "cell_type": "code",
   "execution_count": 29,
   "id": "43157195",
   "metadata": {},
   "outputs": [
    {
     "data": {
      "text/plain": [
       "{'mean_bedroom': 4.308171461355626,\n",
       " 'median_bedroom': 4.0,\n",
       " 'mean_bathroom': 3.1342353423534237,\n",
       " 'median_bathroom': 2.0,\n",
       " 'mean_parking': 3.169825252276643,\n",
       " 'median_parking': 3.0}"
      ]
     },
     "execution_count": 29,
     "metadata": {},
     "output_type": "execute_result"
    }
   ],
   "source": [
    "averages(df)"
   ]
  },
  {
   "cell_type": "code",
   "execution_count": 30,
   "id": "0bfe9922",
   "metadata": {},
   "outputs": [
    {
     "data": {
      "text/plain": [
       "{'mean_bedroom': 4.223436966176973,\n",
       " 'median_bedroom': 4.0,\n",
       " 'mean_bathroom': 3.1140440799589952,\n",
       " 'median_bathroom': 2.0,\n",
       " 'mean_parking': 3.1658115272789464,\n",
       " 'median_parking': 3.0}"
      ]
     },
     "execution_count": 30,
     "metadata": {},
     "output_type": "execute_result"
    }
   ],
   "source": [
    "averages(df_norm)"
   ]
  },
  {
   "cell_type": "code",
   "execution_count": 31,
   "id": "3ee90e57",
   "metadata": {},
   "outputs": [
    {
     "name": "stderr",
     "output_type": "stream",
     "text": [
      "C:\\Users\\kikio\\AppData\\Local\\Temp\\ipykernel_7516\\1029897569.py:1: SettingWithCopyWarning: \n",
      "A value is trying to be set on a copy of a slice from a DataFrame.\n",
      "Try using .loc[row_indexer,col_indexer] = value instead\n",
      "\n",
      "See the caveats in the documentation: https://pandas.pydata.org/pandas-docs/stable/user_guide/indexing.html#returning-a-view-versus-a-copy\n",
      "  df_fliers['parking_space'],df_fliers['bedroom'], df_fliers['bathroom'] = df_fliers['parking_space'].fillna(3),df_fliers['bedroom'].fillna(6),df_fliers['bathroom'].fillna(3)\n"
     ]
    }
   ],
   "source": [
    "df_fliers['parking_space'],df_fliers['bedroom'], df_fliers['bathroom'] = df_fliers['parking_space'].fillna(3),df_fliers['bedroom'].fillna(6),df_fliers['bathroom'].fillna(3)"
   ]
  },
  {
   "cell_type": "code",
   "execution_count": 32,
   "id": "56f9d731",
   "metadata": {},
   "outputs": [],
   "source": [
    "df1 = df"
   ]
  },
  {
   "cell_type": "code",
   "execution_count": 33,
   "id": "8419d495",
   "metadata": {},
   "outputs": [
    {
     "data": {
      "text/html": [
       "<div>\n",
       "<style scoped>\n",
       "    .dataframe tbody tr th:only-of-type {\n",
       "        vertical-align: middle;\n",
       "    }\n",
       "\n",
       "    .dataframe tbody tr th {\n",
       "        vertical-align: top;\n",
       "    }\n",
       "\n",
       "    .dataframe thead th {\n",
       "        text-align: right;\n",
       "    }\n",
       "</style>\n",
       "<table border=\"1\" class=\"dataframe\">\n",
       "  <thead>\n",
       "    <tr style=\"text-align: right;\">\n",
       "      <th></th>\n",
       "      <th>ID</th>\n",
       "      <th>loc</th>\n",
       "      <th>title</th>\n",
       "      <th>bedroom</th>\n",
       "      <th>bathroom</th>\n",
       "      <th>parking_space</th>\n",
       "      <th>price</th>\n",
       "    </tr>\n",
       "  </thead>\n",
       "  <tbody>\n",
       "    <tr>\n",
       "      <th>0</th>\n",
       "      <td>3583.0</td>\n",
       "      <td>Katsina</td>\n",
       "      <td>Semi-detached duplex</td>\n",
       "      <td>2.0</td>\n",
       "      <td>2.0</td>\n",
       "      <td>1.0</td>\n",
       "      <td>1149999.565</td>\n",
       "    </tr>\n",
       "    <tr>\n",
       "      <th>1</th>\n",
       "      <td>2748.0</td>\n",
       "      <td>Ondo</td>\n",
       "      <td>Apartment</td>\n",
       "      <td>NaN</td>\n",
       "      <td>2.0</td>\n",
       "      <td>4.0</td>\n",
       "      <td>1672416.689</td>\n",
       "    </tr>\n",
       "    <tr>\n",
       "      <th>2</th>\n",
       "      <td>9261.0</td>\n",
       "      <td>Ekiti</td>\n",
       "      <td>NaN</td>\n",
       "      <td>7.0</td>\n",
       "      <td>5.0</td>\n",
       "      <td>NaN</td>\n",
       "      <td>3364799.814</td>\n",
       "    </tr>\n",
       "    <tr>\n",
       "      <th>3</th>\n",
       "      <td>2224.0</td>\n",
       "      <td>Anambra</td>\n",
       "      <td>Detached duplex</td>\n",
       "      <td>5.0</td>\n",
       "      <td>2.0</td>\n",
       "      <td>4.0</td>\n",
       "      <td>2410306.756</td>\n",
       "    </tr>\n",
       "    <tr>\n",
       "      <th>4</th>\n",
       "      <td>10300.0</td>\n",
       "      <td>Kogi</td>\n",
       "      <td>Terrace duplex</td>\n",
       "      <td>NaN</td>\n",
       "      <td>5.0</td>\n",
       "      <td>6.0</td>\n",
       "      <td>2600700.898</td>\n",
       "    </tr>\n",
       "    <tr>\n",
       "      <th>...</th>\n",
       "      <td>...</td>\n",
       "      <td>...</td>\n",
       "      <td>...</td>\n",
       "      <td>...</td>\n",
       "      <td>...</td>\n",
       "      <td>...</td>\n",
       "      <td>...</td>\n",
       "    </tr>\n",
       "    <tr>\n",
       "      <th>13995</th>\n",
       "      <td>6175.0</td>\n",
       "      <td>Edo</td>\n",
       "      <td>Bungalow</td>\n",
       "      <td>NaN</td>\n",
       "      <td>7.0</td>\n",
       "      <td>NaN</td>\n",
       "      <td>2367927.861</td>\n",
       "    </tr>\n",
       "    <tr>\n",
       "      <th>13996</th>\n",
       "      <td>9704.0</td>\n",
       "      <td>Kaduna</td>\n",
       "      <td>Apartment</td>\n",
       "      <td>NaN</td>\n",
       "      <td>7.0</td>\n",
       "      <td>5.0</td>\n",
       "      <td>2228516.471</td>\n",
       "    </tr>\n",
       "    <tr>\n",
       "      <th>13997</th>\n",
       "      <td>11190.0</td>\n",
       "      <td>Plateau</td>\n",
       "      <td>Bungalow</td>\n",
       "      <td>8.0</td>\n",
       "      <td>6.0</td>\n",
       "      <td>5.0</td>\n",
       "      <td>2406812.693</td>\n",
       "    </tr>\n",
       "    <tr>\n",
       "      <th>13998</th>\n",
       "      <td>9256.0</td>\n",
       "      <td>Delta</td>\n",
       "      <td>Flat</td>\n",
       "      <td>NaN</td>\n",
       "      <td>6.0</td>\n",
       "      <td>1.0</td>\n",
       "      <td>3348918.718</td>\n",
       "    </tr>\n",
       "    <tr>\n",
       "      <th>13999</th>\n",
       "      <td>8787.0</td>\n",
       "      <td>Nasarawa</td>\n",
       "      <td>NaN</td>\n",
       "      <td>9.0</td>\n",
       "      <td>7.0</td>\n",
       "      <td>5.0</td>\n",
       "      <td>2858516.890</td>\n",
       "    </tr>\n",
       "  </tbody>\n",
       "</table>\n",
       "<p>14000 rows × 7 columns</p>\n",
       "</div>"
      ],
      "text/plain": [
       "            ID       loc                 title  bedroom  bathroom  \\\n",
       "0       3583.0   Katsina  Semi-detached duplex      2.0       2.0   \n",
       "1       2748.0      Ondo             Apartment      NaN       2.0   \n",
       "2       9261.0     Ekiti                   NaN      7.0       5.0   \n",
       "3       2224.0   Anambra       Detached duplex      5.0       2.0   \n",
       "4      10300.0      Kogi        Terrace duplex      NaN       5.0   \n",
       "...        ...       ...                   ...      ...       ...   \n",
       "13995   6175.0       Edo              Bungalow      NaN       7.0   \n",
       "13996   9704.0    Kaduna             Apartment      NaN       7.0   \n",
       "13997  11190.0   Plateau              Bungalow      8.0       6.0   \n",
       "13998   9256.0     Delta                  Flat      NaN       6.0   \n",
       "13999   8787.0  Nasarawa                   NaN      9.0       7.0   \n",
       "\n",
       "       parking_space        price  \n",
       "0                1.0  1149999.565  \n",
       "1                4.0  1672416.689  \n",
       "2                NaN  3364799.814  \n",
       "3                4.0  2410306.756  \n",
       "4                6.0  2600700.898  \n",
       "...              ...          ...  \n",
       "13995            NaN  2367927.861  \n",
       "13996            5.0  2228516.471  \n",
       "13997            5.0  2406812.693  \n",
       "13998            1.0  3348918.718  \n",
       "13999            5.0  2858516.890  \n",
       "\n",
       "[14000 rows x 7 columns]"
      ]
     },
     "execution_count": 33,
     "metadata": {},
     "output_type": "execute_result"
    }
   ],
   "source": [
    "df=df.update(df_fliers)\n",
    "df = df1\n",
    "df\n"
   ]
  },
  {
   "cell_type": "code",
   "execution_count": 34,
   "id": "623beba5",
   "metadata": {},
   "outputs": [],
   "source": [
    "df_norms = df_norm.loc[(df_norm['bedroom']>5) & (df_norm['bathroom']>2)]"
   ]
  },
  {
   "cell_type": "code",
   "execution_count": 35,
   "id": "a4ae5db1",
   "metadata": {},
   "outputs": [
    {
     "data": {
      "text/plain": [
       "(<Axes: xlabel='bedroom', ylabel='count'>,\n",
       " <Axes: xlabel='bathroom', ylabel='count'>)"
      ]
     },
     "execution_count": 35,
     "metadata": {},
     "output_type": "execute_result"
    },
    {
     "data": {
      "image/png": "[encoded data removed]",
      "text/plain": [
       "<Figure size 640x480 with 2 Axes>"
      ]
     },
     "metadata": {},
     "output_type": "display_data"
    }
   ],
   "source": [
    "info(df_norms)"
   ]
  },
  {
   "cell_type": "code",
   "execution_count": 36,
   "id": "8ad0e2ea",
   "metadata": {},
   "outputs": [
    {
     "data": {
      "text/plain": [
       "{'mean_bedroom': 7.457991803278689,\n",
       " 'median_bedroom': 7.0,\n",
       " 'mean_bathroom': 5.011782786885246,\n",
       " 'median_bathroom': 5.0,\n",
       " 'mean_parking': 3.502398081534772,\n",
       " 'median_parking': 4.0}"
      ]
     },
     "execution_count": 36,
     "metadata": {},
     "output_type": "execute_result"
    }
   ],
   "source": [
    "averages(df_norms)"
   ]
  },
  {
   "cell_type": "code",
   "execution_count": 37,
   "id": "101f73dc",
   "metadata": {},
   "outputs": [
    {
     "data": {
      "text/plain": [
       "<Axes: xlabel='count', ylabel='title'>"
      ]
     },
     "execution_count": 37,
     "metadata": {},
     "output_type": "execute_result"
    },
    {
     "data": {
      "image/png": "[encoded data removed]",
      "text/plain": [
       "<Figure size 640x480 with 1 Axes>"
      ]
     },
     "metadata": {},
     "output_type": "display_data"
    }
   ],
   "source": [
    "sns.countplot(y='title', data=df_norms)"
   ]
  },
  {
   "cell_type": "code",
   "execution_count": 38,
   "id": "9137838d",
   "metadata": {},
   "outputs": [
    {
     "name": "stderr",
     "output_type": "stream",
     "text": [
      "C:\\Users\\kikio\\AppData\\Local\\Temp\\ipykernel_7516\\1133303255.py:1: SettingWithCopyWarning: \n",
      "A value is trying to be set on a copy of a slice from a DataFrame.\n",
      "Try using .loc[row_indexer,col_indexer] = value instead\n",
      "\n",
      "See the caveats in the documentation: https://pandas.pydata.org/pandas-docs/stable/user_guide/indexing.html#returning-a-view-versus-a-copy\n",
      "  df_norms['parking_space'],df_norms['bedroom'], df_norms['bathroom'] = df_norms['parking_space'].fillna(4),df_norms['bedroom'].fillna(7),df_norms['bathroom'].fillna(5)\n"
     ]
    }
   ],
   "source": [
    "df_norms['parking_space'],df_norms['bedroom'], df_norms['bathroom'] = df_norms['parking_space'].fillna(4),df_norms['bedroom'].fillna(7),df_norms['bathroom'].fillna(5)"
   ]
  },
  {
   "cell_type": "code",
   "execution_count": 39,
   "id": "89ce699a",
   "metadata": {
    "scrolled": true
   },
   "outputs": [
    {
     "data": {
      "text/html": [
       "<div>\n",
       "<style scoped>\n",
       "    .dataframe tbody tr th:only-of-type {\n",
       "        vertical-align: middle;\n",
       "    }\n",
       "\n",
       "    .dataframe tbody tr th {\n",
       "        vertical-align: top;\n",
       "    }\n",
       "\n",
       "    .dataframe thead th {\n",
       "        text-align: right;\n",
       "    }\n",
       "</style>\n",
       "<table border=\"1\" class=\"dataframe\">\n",
       "  <thead>\n",
       "    <tr style=\"text-align: right;\">\n",
       "      <th></th>\n",
       "      <th>ID</th>\n",
       "      <th>loc</th>\n",
       "      <th>title</th>\n",
       "      <th>bedroom</th>\n",
       "      <th>bathroom</th>\n",
       "      <th>parking_space</th>\n",
       "      <th>price</th>\n",
       "    </tr>\n",
       "  </thead>\n",
       "  <tbody>\n",
       "    <tr>\n",
       "      <th>0</th>\n",
       "      <td>3583.0</td>\n",
       "      <td>Katsina</td>\n",
       "      <td>Semi-detached duplex</td>\n",
       "      <td>2.0</td>\n",
       "      <td>2.0</td>\n",
       "      <td>1.0</td>\n",
       "      <td>1149999.565</td>\n",
       "    </tr>\n",
       "    <tr>\n",
       "      <th>1</th>\n",
       "      <td>2748.0</td>\n",
       "      <td>Ondo</td>\n",
       "      <td>Apartment</td>\n",
       "      <td>NaN</td>\n",
       "      <td>2.0</td>\n",
       "      <td>4.0</td>\n",
       "      <td>1672416.689</td>\n",
       "    </tr>\n",
       "    <tr>\n",
       "      <th>2</th>\n",
       "      <td>9261.0</td>\n",
       "      <td>Ekiti</td>\n",
       "      <td>NaN</td>\n",
       "      <td>7.0</td>\n",
       "      <td>5.0</td>\n",
       "      <td>4.0</td>\n",
       "      <td>3364799.814</td>\n",
       "    </tr>\n",
       "    <tr>\n",
       "      <th>3</th>\n",
       "      <td>2224.0</td>\n",
       "      <td>Anambra</td>\n",
       "      <td>Detached duplex</td>\n",
       "      <td>5.0</td>\n",
       "      <td>2.0</td>\n",
       "      <td>4.0</td>\n",
       "      <td>2410306.756</td>\n",
       "    </tr>\n",
       "    <tr>\n",
       "      <th>4</th>\n",
       "      <td>10300.0</td>\n",
       "      <td>Kogi</td>\n",
       "      <td>Terrace duplex</td>\n",
       "      <td>NaN</td>\n",
       "      <td>5.0</td>\n",
       "      <td>6.0</td>\n",
       "      <td>2600700.898</td>\n",
       "    </tr>\n",
       "    <tr>\n",
       "      <th>...</th>\n",
       "      <td>...</td>\n",
       "      <td>...</td>\n",
       "      <td>...</td>\n",
       "      <td>...</td>\n",
       "      <td>...</td>\n",
       "      <td>...</td>\n",
       "      <td>...</td>\n",
       "    </tr>\n",
       "    <tr>\n",
       "      <th>13995</th>\n",
       "      <td>6175.0</td>\n",
       "      <td>Edo</td>\n",
       "      <td>Bungalow</td>\n",
       "      <td>NaN</td>\n",
       "      <td>7.0</td>\n",
       "      <td>NaN</td>\n",
       "      <td>2367927.861</td>\n",
       "    </tr>\n",
       "    <tr>\n",
       "      <th>13996</th>\n",
       "      <td>9704.0</td>\n",
       "      <td>Kaduna</td>\n",
       "      <td>Apartment</td>\n",
       "      <td>NaN</td>\n",
       "      <td>7.0</td>\n",
       "      <td>5.0</td>\n",
       "      <td>2228516.471</td>\n",
       "    </tr>\n",
       "    <tr>\n",
       "      <th>13997</th>\n",
       "      <td>11190.0</td>\n",
       "      <td>Plateau</td>\n",
       "      <td>Bungalow</td>\n",
       "      <td>8.0</td>\n",
       "      <td>6.0</td>\n",
       "      <td>5.0</td>\n",
       "      <td>2406812.693</td>\n",
       "    </tr>\n",
       "    <tr>\n",
       "      <th>13998</th>\n",
       "      <td>9256.0</td>\n",
       "      <td>Delta</td>\n",
       "      <td>Flat</td>\n",
       "      <td>NaN</td>\n",
       "      <td>6.0</td>\n",
       "      <td>1.0</td>\n",
       "      <td>3348918.718</td>\n",
       "    </tr>\n",
       "    <tr>\n",
       "      <th>13999</th>\n",
       "      <td>8787.0</td>\n",
       "      <td>Nasarawa</td>\n",
       "      <td>NaN</td>\n",
       "      <td>9.0</td>\n",
       "      <td>7.0</td>\n",
       "      <td>5.0</td>\n",
       "      <td>2858516.890</td>\n",
       "    </tr>\n",
       "  </tbody>\n",
       "</table>\n",
       "<p>14000 rows × 7 columns</p>\n",
       "</div>"
      ],
      "text/plain": [
       "            ID       loc                 title  bedroom  bathroom  \\\n",
       "0       3583.0   Katsina  Semi-detached duplex      2.0       2.0   \n",
       "1       2748.0      Ondo             Apartment      NaN       2.0   \n",
       "2       9261.0     Ekiti                   NaN      7.0       5.0   \n",
       "3       2224.0   Anambra       Detached duplex      5.0       2.0   \n",
       "4      10300.0      Kogi        Terrace duplex      NaN       5.0   \n",
       "...        ...       ...                   ...      ...       ...   \n",
       "13995   6175.0       Edo              Bungalow      NaN       7.0   \n",
       "13996   9704.0    Kaduna             Apartment      NaN       7.0   \n",
       "13997  11190.0   Plateau              Bungalow      8.0       6.0   \n",
       "13998   9256.0     Delta                  Flat      NaN       6.0   \n",
       "13999   8787.0  Nasarawa                   NaN      9.0       7.0   \n",
       "\n",
       "       parking_space        price  \n",
       "0                1.0  1149999.565  \n",
       "1                4.0  1672416.689  \n",
       "2                4.0  3364799.814  \n",
       "3                4.0  2410306.756  \n",
       "4                6.0  2600700.898  \n",
       "...              ...          ...  \n",
       "13995            NaN  2367927.861  \n",
       "13996            5.0  2228516.471  \n",
       "13997            5.0  2406812.693  \n",
       "13998            1.0  3348918.718  \n",
       "13999            5.0  2858516.890  \n",
       "\n",
       "[14000 rows x 7 columns]"
      ]
     },
     "execution_count": 39,
     "metadata": {},
     "output_type": "execute_result"
    }
   ],
   "source": [
    "df=df.update(df_norms)\n",
    "df = df1\n",
    "df\n"
   ]
  },
  {
   "cell_type": "code",
   "execution_count": 40,
   "id": "98a1e3d8",
   "metadata": {},
   "outputs": [
    {
     "data": {
      "text/plain": [
       "array(['Semi-detached duplex', 'Apartment', nan, 'Detached duplex',\n",
       "       'Terrace duplex', 'Mansion', 'Bungalow', 'Penthouse', 'Townhouse',\n",
       "       'Flat', 'Cottage'], dtype=object)"
      ]
     },
     "execution_count": 40,
     "metadata": {},
     "output_type": "execute_result"
    }
   ],
   "source": [
    "df['title'].unique()"
   ]
  },
  {
   "cell_type": "code",
   "execution_count": 41,
   "id": "218afab1",
   "metadata": {},
   "outputs": [],
   "source": [
    "#Average of title prices."
   ]
  },
  {
   "cell_type": "code",
   "execution_count": 42,
   "id": "761917dc",
   "metadata": {},
   "outputs": [],
   "source": [
    "types = [df.loc[df['title']==i] for i in df['title'].unique()]\n",
    "mean = [np.mean(i['price']) for i in types]"
   ]
  },
  {
   "cell_type": "code",
   "execution_count": 43,
   "id": "b527980b",
   "metadata": {},
   "outputs": [],
   "source": [
    "def average_title_prices(data):\n",
    "    types = [data.loc[data['title']==i] for i in data['title'].unique()]\n",
    "    mean = [np.mean(i['price']) for i in types]\n",
    "    median = [np.median(i['price']) for i in types]\n",
    "    return mean, median, data['title'].unique()"
   ]
  },
  {
   "cell_type": "code",
   "execution_count": 44,
   "id": "318affda",
   "metadata": {},
   "outputs": [
    {
     "name": "stderr",
     "output_type": "stream",
     "text": [
      "C:\\Users\\kikio\\anaconda3\\lib\\site-packages\\numpy\\core\\fromnumeric.py:3432: RuntimeWarning: Mean of empty slice.\n",
      "  return _methods._mean(a, axis=axis, dtype=dtype,\n",
      "C:\\Users\\kikio\\anaconda3\\lib\\site-packages\\numpy\\core\\_methods.py:190: RuntimeWarning: invalid value encountered in double_scalars\n",
      "  ret = ret.dtype.type(ret / rcount)\n"
     ]
    },
    {
     "data": {
      "text/plain": [
       "([1918467.5713578137,\n",
       "  1567003.6666603303,\n",
       "  nan,\n",
       "  2205882.9988047257,\n",
       "  1927269.653699289,\n",
       "  3725768.361792889,\n",
       "  1733845.1476139983,\n",
       "  2628945.1770549,\n",
       "  2056125.047418915,\n",
       "  1721875.4634380466,\n",
       "  1307817.285284],\n",
       " [1775194.679,\n",
       "  1452525.873,\n",
       "  nan,\n",
       "  2065377.2519999999,\n",
       "  1781611.1425,\n",
       "  3591435.3945000004,\n",
       "  1615584.179,\n",
       "  2506820.0595,\n",
       "  1915888.169,\n",
       "  1588670.834,\n",
       "  1208906.5905],\n",
       " array(['Semi-detached duplex', 'Apartment', nan, 'Detached duplex',\n",
       "        'Terrace duplex', 'Mansion', 'Bungalow', 'Penthouse', 'Townhouse',\n",
       "        'Flat', 'Cottage'], dtype=object))"
      ]
     },
     "execution_count": 44,
     "metadata": {},
     "output_type": "execute_result"
    }
   ],
   "source": [
    "average_title_prices(df)"
   ]
  },
  {
   "cell_type": "code",
   "execution_count": 45,
   "id": "6204400b",
   "metadata": {},
   "outputs": [
    {
     "data": {
      "text/plain": [
       "([5632317.46403183,\n",
       "  5178984.38818868,\n",
       "  nan,\n",
       "  4768879.729636364,\n",
       "  5165490.023809523,\n",
       "  4840124.373166667,\n",
       "  4906976.8674,\n",
       "  4854372.080416666,\n",
       "  4553058.6705,\n",
       "  4827185.3475],\n",
       " [5122422.454,\n",
       "  4913681.092,\n",
       "  nan,\n",
       "  4694730.183,\n",
       "  5048738.759,\n",
       "  4780798.626,\n",
       "  4851586.158,\n",
       "  4831946.293,\n",
       "  4553058.6705,\n",
       "  4827185.3475],\n",
       " array(['Mansion', 'Penthouse', nan, 'Semi-detached duplex',\n",
       "        'Detached duplex', 'Townhouse', 'Cottage', 'Terrace duplex',\n",
       "        'Bungalow', 'Flat'], dtype=object))"
      ]
     },
     "execution_count": 45,
     "metadata": {},
     "output_type": "execute_result"
    }
   ],
   "source": [
    "average_title_prices(df_fliers)"
   ]
  },
  {
   "cell_type": "code",
   "execution_count": 46,
   "id": "279e0d01",
   "metadata": {},
   "outputs": [],
   "source": [
    "sdd = types[0]"
   ]
  },
  {
   "cell_type": "code",
   "execution_count": 47,
   "id": "65218170",
   "metadata": {
    "scrolled": false
   },
   "outputs": [
    {
     "data": {
      "text/plain": [
       "{'mean_bedroom': 4.416360294117647,\n",
       " 'median_bedroom': 4.0,\n",
       " 'mean_bathroom': 3.1945945945945944,\n",
       " 'median_bathroom': 2.0,\n",
       " 'mean_parking': 3.2269129287598943,\n",
       " 'median_parking': 3.0}"
      ]
     },
     "execution_count": 47,
     "metadata": {},
     "output_type": "execute_result"
    }
   ],
   "source": [
    "averages(sdd)"
   ]
  },
  {
   "cell_type": "code",
   "execution_count": 48,
   "id": "4cee6d6e",
   "metadata": {},
   "outputs": [
    {
     "name": "stderr",
     "output_type": "stream",
     "text": [
      "C:\\Users\\kikio\\AppData\\Local\\Temp\\ipykernel_7516\\1661526714.py:1: SettingWithCopyWarning: \n",
      "A value is trying to be set on a copy of a slice from a DataFrame.\n",
      "Try using .loc[row_indexer,col_indexer] = value instead\n",
      "\n",
      "See the caveats in the documentation: https://pandas.pydata.org/pandas-docs/stable/user_guide/indexing.html#returning-a-view-versus-a-copy\n",
      "  sdd['bedroom'], sdd['bathroom'], sdd['parking_space'] = sdd['bedroom'].fillna(4), sdd['bathroom'].fillna(2), sdd['parking_space'].fillna(3)\n"
     ]
    }
   ],
   "source": [
    "sdd['bedroom'], sdd['bathroom'], sdd['parking_space'] = sdd['bedroom'].fillna(4), sdd['bathroom'].fillna(2), sdd['parking_space'].fillna(3)"
   ]
  },
  {
   "cell_type": "code",
   "execution_count": 49,
   "id": "fac54724",
   "metadata": {},
   "outputs": [
    {
     "data": {
      "text/plain": [
       "{'mean_bedroom': 4.344218887908208,\n",
       " 'median_bedroom': 4.0,\n",
       " 'mean_bathroom': 3.109861591695502,\n",
       " 'median_bathroom': 2.0,\n",
       " 'mean_parking': 3.3071000855431993,\n",
       " 'median_parking': 3.0}"
      ]
     },
     "execution_count": 49,
     "metadata": {},
     "output_type": "execute_result"
    }
   ],
   "source": [
    "apartment = types[1]\n",
    "averages(apartment)"
   ]
  },
  {
   "cell_type": "code",
   "execution_count": 50,
   "id": "3933932e",
   "metadata": {},
   "outputs": [
    {
     "name": "stderr",
     "output_type": "stream",
     "text": [
      "C:\\Users\\kikio\\AppData\\Local\\Temp\\ipykernel_7516\\310970014.py:1: SettingWithCopyWarning: \n",
      "A value is trying to be set on a copy of a slice from a DataFrame.\n",
      "Try using .loc[row_indexer,col_indexer] = value instead\n",
      "\n",
      "See the caveats in the documentation: https://pandas.pydata.org/pandas-docs/stable/user_guide/indexing.html#returning-a-view-versus-a-copy\n",
      "  apartment['bedroom'], apartment['bathroom'], apartment['parking_space'] = apartment['bedroom'].fillna(4), apartment['bathroom'].fillna(2), apartment['parking_space'].fillna(3)\n"
     ]
    }
   ],
   "source": [
    "apartment['bedroom'], apartment['bathroom'], apartment['parking_space'] = apartment['bedroom'].fillna(4), apartment['bathroom'].fillna(2), apartment['parking_space'].fillna(3)"
   ]
  },
  {
   "cell_type": "code",
   "execution_count": 51,
   "id": "fb273086",
   "metadata": {},
   "outputs": [
    {
     "data": {
      "text/plain": [
       "{'mean_bedroom': 4.329289428076256,\n",
       " 'median_bedroom': 4.0,\n",
       " 'mean_bathroom': 3.231858407079646,\n",
       " 'median_bathroom': 2.0,\n",
       " 'mean_parking': 3.2502157031924073,\n",
       " 'median_parking': 3.0}"
      ]
     },
     "execution_count": 51,
     "metadata": {},
     "output_type": "execute_result"
    }
   ],
   "source": [
    "Detached_duplex = types[3]\n",
    "averages(Detached_duplex)"
   ]
  },
  {
   "cell_type": "code",
   "execution_count": 52,
   "id": "9d732795",
   "metadata": {},
   "outputs": [
    {
     "name": "stderr",
     "output_type": "stream",
     "text": [
      "C:\\Users\\kikio\\AppData\\Local\\Temp\\ipykernel_7516\\878900383.py:1: SettingWithCopyWarning: \n",
      "A value is trying to be set on a copy of a slice from a DataFrame.\n",
      "Try using .loc[row_indexer,col_indexer] = value instead\n",
      "\n",
      "See the caveats in the documentation: https://pandas.pydata.org/pandas-docs/stable/user_guide/indexing.html#returning-a-view-versus-a-copy\n",
      "  Detached_duplex['bedroom'], Detached_duplex['bathroom'], Detached_duplex['parking_space'] = Detached_duplex['bedroom'].fillna(4), Detached_duplex['bathroom'].fillna(3), Detached_duplex['parking_space'].fillna(3)\n"
     ]
    }
   ],
   "source": [
    "Detached_duplex['bedroom'], Detached_duplex['bathroom'], Detached_duplex['parking_space'] = Detached_duplex['bedroom'].fillna(4), Detached_duplex['bathroom'].fillna(3), Detached_duplex['parking_space'].fillna(3)"
   ]
  },
  {
   "cell_type": "code",
   "execution_count": 53,
   "id": "a3993fa9",
   "metadata": {},
   "outputs": [
    {
     "data": {
      "text/plain": [
       "{'mean_bedroom': 4.342153284671533,\n",
       " 'median_bedroom': 4.0,\n",
       " 'mean_bathroom': 3.292616226071103,\n",
       " 'median_bathroom': 3.0,\n",
       " 'mean_parking': 3.2100538599640935,\n",
       " 'median_parking': 3.0}"
      ]
     },
     "execution_count": 53,
     "metadata": {},
     "output_type": "execute_result"
    }
   ],
   "source": [
    "Terrace_duplex = types[4]\n",
    "averages(Terrace_duplex)"
   ]
  },
  {
   "cell_type": "code",
   "execution_count": 54,
   "id": "db53335f",
   "metadata": {},
   "outputs": [
    {
     "name": "stderr",
     "output_type": "stream",
     "text": [
      "C:\\Users\\kikio\\AppData\\Local\\Temp\\ipykernel_7516\\604785758.py:1: SettingWithCopyWarning: \n",
      "A value is trying to be set on a copy of a slice from a DataFrame.\n",
      "Try using .loc[row_indexer,col_indexer] = value instead\n",
      "\n",
      "See the caveats in the documentation: https://pandas.pydata.org/pandas-docs/stable/user_guide/indexing.html#returning-a-view-versus-a-copy\n",
      "  Terrace_duplex['bedroom'], Terrace_duplex['bathroom'], Terrace_duplex['parking_space'] = Terrace_duplex['bedroom'].fillna(4), Terrace_duplex['bathroom'].fillna(3), Terrace_duplex['parking_space'].fillna(3)\n"
     ]
    }
   ],
   "source": [
    "Terrace_duplex['bedroom'], Terrace_duplex['bathroom'], Terrace_duplex['parking_space'] = Terrace_duplex['bedroom'].fillna(4), Terrace_duplex['bathroom'].fillna(3), Terrace_duplex['parking_space'].fillna(3)"
   ]
  },
  {
   "cell_type": "code",
   "execution_count": 55,
   "id": "c59c78a0",
   "metadata": {},
   "outputs": [
    {
     "data": {
      "text/plain": [
       "{'mean_bedroom': 4.418644067796611,\n",
       " 'median_bedroom': 4.0,\n",
       " 'mean_bathroom': 3.187761944677284,\n",
       " 'median_bathroom': 3.0,\n",
       " 'mean_parking': 3.1180904522613067,\n",
       " 'median_parking': 3.0}"
      ]
     },
     "execution_count": 55,
     "metadata": {},
     "output_type": "execute_result"
    }
   ],
   "source": [
    "Mansion = types[5]\n",
    "averages(Mansion)"
   ]
  },
  {
   "cell_type": "code",
   "execution_count": 56,
   "id": "d4ba2a4d",
   "metadata": {},
   "outputs": [
    {
     "name": "stderr",
     "output_type": "stream",
     "text": [
      "C:\\Users\\kikio\\AppData\\Local\\Temp\\ipykernel_7516\\3842958492.py:1: SettingWithCopyWarning: \n",
      "A value is trying to be set on a copy of a slice from a DataFrame.\n",
      "Try using .loc[row_indexer,col_indexer] = value instead\n",
      "\n",
      "See the caveats in the documentation: https://pandas.pydata.org/pandas-docs/stable/user_guide/indexing.html#returning-a-view-versus-a-copy\n",
      "  Mansion['bedroom'], Mansion['bathroom'], Mansion['parking_space'] = Mansion['bedroom'].fillna(method='ffill'), Mansion['bathroom'].fillna(method='bfill'), Mansion['parking_space'].fillna(method='ffill')\n"
     ]
    }
   ],
   "source": [
    "Mansion['bedroom'], Mansion['bathroom'], Mansion['parking_space'] = Mansion['bedroom'].fillna(method='ffill'), Mansion['bathroom'].fillna(method='bfill'), Mansion['parking_space'].fillna(method='ffill')"
   ]
  },
  {
   "cell_type": "code",
   "execution_count": 57,
   "id": "fb0bbc1a",
   "metadata": {},
   "outputs": [
    {
     "data": {
      "text/plain": [
       "{'mean_bedroom': 4.402852049910874,\n",
       " 'median_bedroom': 4.0,\n",
       " 'mean_bathroom': 3.394664213431463,\n",
       " 'median_bathroom': 3.0,\n",
       " 'mean_parking': 3.211775043936731,\n",
       " 'median_parking': 3.0}"
      ]
     },
     "execution_count": 57,
     "metadata": {},
     "output_type": "execute_result"
    }
   ],
   "source": [
    "Bungalow = types[6]\n",
    "averages(Bungalow)"
   ]
  },
  {
   "cell_type": "code",
   "execution_count": 58,
   "id": "9829bda2",
   "metadata": {},
   "outputs": [
    {
     "name": "stderr",
     "output_type": "stream",
     "text": [
      "C:\\Users\\kikio\\AppData\\Local\\Temp\\ipykernel_7516\\3484489068.py:1: SettingWithCopyWarning: \n",
      "A value is trying to be set on a copy of a slice from a DataFrame.\n",
      "Try using .loc[row_indexer,col_indexer] = value instead\n",
      "\n",
      "See the caveats in the documentation: https://pandas.pydata.org/pandas-docs/stable/user_guide/indexing.html#returning-a-view-versus-a-copy\n",
      "  Bungalow['bedroom'], Bungalow['bathroom'], Bungalow['parking_space'] = Bungalow['bedroom'].fillna(4), Bungalow['bathroom'].fillna(3), Bungalow['parking_space'].fillna(3)\n"
     ]
    }
   ],
   "source": [
    "Bungalow['bedroom'], Bungalow['bathroom'], Bungalow['parking_space'] = Bungalow['bedroom'].fillna(4), Bungalow['bathroom'].fillna(3), Bungalow['parking_space'].fillna(3)"
   ]
  },
  {
   "cell_type": "code",
   "execution_count": 59,
   "id": "74a6a4a0",
   "metadata": {},
   "outputs": [
    {
     "data": {
      "text/plain": [
       "{'mean_bedroom': 4.350218340611354,\n",
       " 'median_bedroom': 4.0,\n",
       " 'mean_bathroom': 2.986737400530504,\n",
       " 'median_bathroom': 2.0,\n",
       " 'mean_parking': 3.2396907216494846,\n",
       " 'median_parking': 3.0}"
      ]
     },
     "execution_count": 59,
     "metadata": {},
     "output_type": "execute_result"
    }
   ],
   "source": [
    "Penthouse = types[7]\n",
    "averages(Penthouse)"
   ]
  },
  {
   "cell_type": "code",
   "execution_count": 60,
   "id": "2db5c75a",
   "metadata": {},
   "outputs": [
    {
     "name": "stderr",
     "output_type": "stream",
     "text": [
      "C:\\Users\\kikio\\AppData\\Local\\Temp\\ipykernel_7516\\126406458.py:1: SettingWithCopyWarning: \n",
      "A value is trying to be set on a copy of a slice from a DataFrame.\n",
      "Try using .loc[row_indexer,col_indexer] = value instead\n",
      "\n",
      "See the caveats in the documentation: https://pandas.pydata.org/pandas-docs/stable/user_guide/indexing.html#returning-a-view-versus-a-copy\n",
      "  Penthouse['bedroom'], Penthouse['bathroom'], Penthouse['parking_space'] = Penthouse['bedroom'].fillna(4), Penthouse['bathroom'].fillna(2), Penthouse['parking_space'].fillna(3)\n"
     ]
    }
   ],
   "source": [
    "Penthouse['bedroom'], Penthouse['bathroom'], Penthouse['parking_space'] = Penthouse['bedroom'].fillna(4), Penthouse['bathroom'].fillna(2), Penthouse['parking_space'].fillna(3)"
   ]
  },
  {
   "cell_type": "code",
   "execution_count": 61,
   "id": "b7e4103d",
   "metadata": {},
   "outputs": [
    {
     "data": {
      "text/plain": [
       "{'mean_bedroom': 4.301769911504425,\n",
       " 'median_bedroom': 4.0,\n",
       " 'mean_bathroom': 3.1657894736842107,\n",
       " 'median_bathroom': 2.0,\n",
       " 'mean_parking': 3.1968040370058874,\n",
       " 'median_parking': 3.0}"
      ]
     },
     "execution_count": 61,
     "metadata": {},
     "output_type": "execute_result"
    }
   ],
   "source": [
    "Townhouse = types[8]\n",
    "averages(Townhouse)"
   ]
  },
  {
   "cell_type": "code",
   "execution_count": 62,
   "id": "8bab6673",
   "metadata": {},
   "outputs": [
    {
     "name": "stderr",
     "output_type": "stream",
     "text": [
      "C:\\Users\\kikio\\AppData\\Local\\Temp\\ipykernel_7516\\2637504130.py:1: SettingWithCopyWarning: \n",
      "A value is trying to be set on a copy of a slice from a DataFrame.\n",
      "Try using .loc[row_indexer,col_indexer] = value instead\n",
      "\n",
      "See the caveats in the documentation: https://pandas.pydata.org/pandas-docs/stable/user_guide/indexing.html#returning-a-view-versus-a-copy\n",
      "  Townhouse['bedroom'], Townhouse['bathroom'], Townhouse['parking_space'] = Townhouse['bedroom'].fillna(4), Townhouse['bathroom'].fillna(2), Townhouse['parking_space'].fillna(3)\n"
     ]
    }
   ],
   "source": [
    "Townhouse['bedroom'], Townhouse['bathroom'], Townhouse['parking_space'] = Townhouse['bedroom'].fillna(4), Townhouse['bathroom'].fillna(2), Townhouse['parking_space'].fillna(3)"
   ]
  },
  {
   "cell_type": "code",
   "execution_count": 63,
   "id": "2c587c62",
   "metadata": {},
   "outputs": [
    {
     "data": {
      "text/plain": [
       "{'mean_bedroom': 4.378876781223806,\n",
       " 'median_bedroom': 4.0,\n",
       " 'mean_bathroom': 3.188135593220339,\n",
       " 'median_bathroom': 2.0,\n",
       " 'mean_parking': 3.173092698933552,\n",
       " 'median_parking': 3.0}"
      ]
     },
     "execution_count": 63,
     "metadata": {},
     "output_type": "execute_result"
    }
   ],
   "source": [
    "Flat = types[9]\n",
    "averages(Flat)"
   ]
  },
  {
   "cell_type": "code",
   "execution_count": 64,
   "id": "ef0ca6f2",
   "metadata": {},
   "outputs": [
    {
     "name": "stderr",
     "output_type": "stream",
     "text": [
      "C:\\Users\\kikio\\AppData\\Local\\Temp\\ipykernel_7516\\1097597381.py:1: SettingWithCopyWarning: \n",
      "A value is trying to be set on a copy of a slice from a DataFrame.\n",
      "Try using .loc[row_indexer,col_indexer] = value instead\n",
      "\n",
      "See the caveats in the documentation: https://pandas.pydata.org/pandas-docs/stable/user_guide/indexing.html#returning-a-view-versus-a-copy\n",
      "  Flat['bedroom'], Flat['bathroom'], Flat['parking_space'] = Flat['bedroom'].fillna(4), Flat['bathroom'].fillna(2), Flat['parking_space'].fillna(3)\n"
     ]
    }
   ],
   "source": [
    "Flat['bedroom'], Flat['bathroom'], Flat['parking_space'] = Flat['bedroom'].fillna(4), Flat['bathroom'].fillna(2), Flat['parking_space'].fillna(3)"
   ]
  },
  {
   "cell_type": "code",
   "execution_count": 65,
   "id": "c54defff",
   "metadata": {},
   "outputs": [
    {
     "data": {
      "text/plain": [
       "{'mean_bedroom': 2.9216710182767622,\n",
       " 'median_bedroom': 3.0,\n",
       " 'mean_bathroom': 1.5103626943005182,\n",
       " 'median_bathroom': 2.0,\n",
       " 'mean_parking': 2.546134663341646,\n",
       " 'median_parking': 3.0}"
      ]
     },
     "execution_count": 65,
     "metadata": {},
     "output_type": "execute_result"
    }
   ],
   "source": [
    "Cottage = types[10]\n",
    "averages(Cottage)"
   ]
  },
  {
   "cell_type": "code",
   "execution_count": 66,
   "id": "05a8930b",
   "metadata": {},
   "outputs": [
    {
     "name": "stderr",
     "output_type": "stream",
     "text": [
      "C:\\Users\\kikio\\AppData\\Local\\Temp\\ipykernel_7516\\2709114166.py:1: SettingWithCopyWarning: \n",
      "A value is trying to be set on a copy of a slice from a DataFrame.\n",
      "Try using .loc[row_indexer,col_indexer] = value instead\n",
      "\n",
      "See the caveats in the documentation: https://pandas.pydata.org/pandas-docs/stable/user_guide/indexing.html#returning-a-view-versus-a-copy\n",
      "  Cottage['bedroom'], Cottage['bathroom'], Cottage['parking_space'] = Cottage['bedroom'].fillna(3), Cottage['bathroom'].fillna(2), Cottage['parking_space'].fillna(2)\n"
     ]
    }
   ],
   "source": [
    "Cottage['bedroom'], Cottage['bathroom'], Cottage['parking_space'] = Cottage['bedroom'].fillna(3), Cottage['bathroom'].fillna(2), Cottage['parking_space'].fillna(2)"
   ]
  },
  {
   "cell_type": "code",
   "execution_count": 67,
   "id": "cc3a527d",
   "metadata": {},
   "outputs": [],
   "source": [
    "name = [sdd, apartment, Detached_duplex, Terrace_duplex, Mansion, Bungalow, Penthouse, Townhouse, Flat, Cottage]\n",
    "for i in name:\n",
    "    df=df.update(i)\n",
    "    df = df1"
   ]
  },
  {
   "cell_type": "code",
   "execution_count": 68,
   "id": "d0aa49d4",
   "metadata": {},
   "outputs": [],
   "source": [
    "df['bedroom'], df['bathroom'], df['parking_space'] = df['bedroom'].fillna(method = 'ffill'), df['bathroom'].fillna(method = 'ffill'), df['parking_space'].fillna(method = 'ffill')"
   ]
  },
  {
   "cell_type": "code",
   "execution_count": 69,
   "id": "69bb2e9f",
   "metadata": {},
   "outputs": [
    {
     "data": {
      "text/plain": [
       "(<Axes: xlabel='bedroom', ylabel='count'>,\n",
       " <Axes: xlabel='bathroom', ylabel='count'>)"
      ]
     },
     "execution_count": 69,
     "metadata": {},
     "output_type": "execute_result"
    },
    {
     "data": {
      "image/png": "[encoded data removed]",
      "text/plain": [
       "<Figure size 640x480 with 2 Axes>"
      ]
     },
     "metadata": {},
     "output_type": "display_data"
    }
   ],
   "source": [
    "info(df)"
   ]
  },
  {
   "cell_type": "code",
   "execution_count": 70,
   "id": "b1f7dadb",
   "metadata": {},
   "outputs": [
    {
     "data": {
      "text/html": [
       "<div>\n",
       "<style scoped>\n",
       "    .dataframe tbody tr th:only-of-type {\n",
       "        vertical-align: middle;\n",
       "    }\n",
       "\n",
       "    .dataframe tbody tr th {\n",
       "        vertical-align: top;\n",
       "    }\n",
       "\n",
       "    .dataframe thead th {\n",
       "        text-align: right;\n",
       "    }\n",
       "</style>\n",
       "<table border=\"1\" class=\"dataframe\">\n",
       "  <thead>\n",
       "    <tr style=\"text-align: right;\">\n",
       "      <th></th>\n",
       "      <th>bedroom</th>\n",
       "      <th>bathroom</th>\n",
       "      <th>price</th>\n",
       "    </tr>\n",
       "  </thead>\n",
       "  <tbody>\n",
       "    <tr>\n",
       "      <th>bedroom</th>\n",
       "      <td>1.000000</td>\n",
       "      <td>0.191458</td>\n",
       "      <td>0.507549</td>\n",
       "    </tr>\n",
       "    <tr>\n",
       "      <th>bathroom</th>\n",
       "      <td>0.191458</td>\n",
       "      <td>1.000000</td>\n",
       "      <td>0.208920</td>\n",
       "    </tr>\n",
       "    <tr>\n",
       "      <th>price</th>\n",
       "      <td>0.507549</td>\n",
       "      <td>0.208920</td>\n",
       "      <td>1.000000</td>\n",
       "    </tr>\n",
       "  </tbody>\n",
       "</table>\n",
       "</div>"
      ],
      "text/plain": [
       "           bedroom  bathroom     price\n",
       "bedroom   1.000000  0.191458  0.507549\n",
       "bathroom  0.191458  1.000000  0.208920\n",
       "price     0.507549  0.208920  1.000000"
      ]
     },
     "execution_count": 70,
     "metadata": {},
     "output_type": "execute_result"
    }
   ],
   "source": [
    "var = ['bedroom', 'bathroom', 'price']\n",
    "df[var].corr()\n"
   ]
  },
  {
   "cell_type": "code",
   "execution_count": 71,
   "id": "cb0fa19d",
   "metadata": {
    "scrolled": true
   },
   "outputs": [
    {
     "data": {
      "text/plain": [
       "<Axes: xlabel='count', ylabel='loc'>"
      ]
     },
     "execution_count": 71,
     "metadata": {},
     "output_type": "execute_result"
    },
    {
     "data": {
      "image/png": "[encoded data removed]",
      "text/plain": [
       "<Figure size 640x480 with 1 Axes>"
      ]
     },
     "metadata": {},
     "output_type": "display_data"
    }
   ],
   "source": [
    "sns.countplot(y = 'loc', data=df)"
   ]
  },
  {
   "cell_type": "code",
   "execution_count": 72,
   "id": "e2a62ae5",
   "metadata": {},
   "outputs": [],
   "source": [
    "#Compute average housing prices per state......\n",
    "place = list(df['loc'].unique())"
   ]
  },
  {
   "cell_type": "code",
   "execution_count": 73,
   "id": "13bbf6e8",
   "metadata": {},
   "outputs": [],
   "source": [
    "df['loc'] = df['loc'].fillna(method ='ffill')\n",
    "df['title'] = df['title'].fillna(method='ffill')"
   ]
  },
  {
   "cell_type": "code",
   "execution_count": 74,
   "id": "82fc8547",
   "metadata": {},
   "outputs": [],
   "source": [
    "def pps(data):\n",
    "    loc = list(data['loc'].unique())\n",
    "    loc_prices = [(j['price'].mean(), j['price'].median()) for j in [data.loc[df['loc']==i] for i in loc]]\n",
    "    info = {k:v for (k,v) in zip(loc, loc_prices)}\n",
    "    return info"
   ]
  },
  {
   "cell_type": "code",
   "execution_count": 75,
   "id": "6e486cc0",
   "metadata": {},
   "outputs": [],
   "source": [
    "def counts(data):\n",
    "    loc = list(data['title'].unique())\n",
    "    types_prices = [(j['price'].mean(), j['price'].median()) for j in [data.loc[df['title']==i] for i in loc]]\n",
    "    info = {k:v for (k,v) in zip(loc, types_prices)}\n",
    "    return info"
   ]
  },
  {
   "cell_type": "code",
   "execution_count": 76,
   "id": "a72f8b3e",
   "metadata": {
    "scrolled": true
   },
   "outputs": [],
   "source": [
    "#counts(df)"
   ]
  },
  {
   "cell_type": "code",
   "execution_count": 77,
   "id": "76bb7727",
   "metadata": {
    "scrolled": true
   },
   "outputs": [],
   "source": [
    "#pps(df)"
   ]
  },
  {
   "cell_type": "code",
   "execution_count": 78,
   "id": "de2933ef",
   "metadata": {},
   "outputs": [],
   "source": [
    "# def std_score(data):\n",
    "#     std = []\n",
    "#     non_order = [j[0] for j in [i for i in data.values()]]\n",
    "#     for i in non_order:\n",
    "#         z = np.abs((i-np.mean(non_order))/np.std(non_order))\n",
    "#         std.append(z)\n",
    "#     return std"
   ]
  },
  {
   "cell_type": "code",
   "execution_count": 79,
   "id": "43023b93",
   "metadata": {
    "scrolled": true
   },
   "outputs": [],
   "source": [
    "# std_score(pps(df))\n",
    "# x = list(pps(df).keys())\n",
    "# new_state = {k:v for k,v in zip(x, std_score(pps(df)))}\n",
    "# df['loc'] = df['loc'].map(new_state)"
   ]
  },
  {
   "cell_type": "code",
   "execution_count": 80,
   "id": "841e6a3d",
   "metadata": {},
   "outputs": [],
   "source": [
    "# std_score(counts(df))\n",
    "# x = list(counts(df).keys())\n",
    "# new_state = {k:v for k,v in zip(x, std_score(counts(df)))}\n",
    "# df['title'] = df['title'].map(new_state)"
   ]
  },
  {
   "cell_type": "code",
   "execution_count": 81,
   "id": "0fa62258",
   "metadata": {},
   "outputs": [],
   "source": [
    "# def rest(data):\n",
    "#     std = []\n",
    "#     x = list(data)\n",
    "#     for i in x:\n",
    "#         z = np.abs((i - np.mean(data))/np.std(data))\n",
    "#         std.append(z)\n",
    "#     return std"
   ]
  },
  {
   "cell_type": "code",
   "execution_count": 82,
   "id": "367627e4",
   "metadata": {},
   "outputs": [],
   "source": [
    "# bathroom = {k:v for k,v in zip(list(df['bathroom']), rest(df['bathroom']))}\n",
    "# bedroom = {k:v for k,v in zip(list(df['bedroom']), rest(df['bedroom']))}\n",
    "# parking_space = {k:v for k,v in zip(list(df['parking_space']), rest(df['parking_space']))}"
   ]
  },
  {
   "cell_type": "code",
   "execution_count": 83,
   "id": "71195fab",
   "metadata": {},
   "outputs": [],
   "source": [
    "# df['parking_space'] = df['parking_space'].map(parking_space)\n",
    "# df['bedroom'] = df['bedroom'].map(bedroom)\n",
    "# df['bathroom'] = df['bathroom'].map(bathroom)"
   ]
  },
  {
   "cell_type": "code",
   "execution_count": 84,
   "id": "924948dc",
   "metadata": {},
   "outputs": [
    {
     "data": {
      "text/html": [
       "<div>\n",
       "<style scoped>\n",
       "    .dataframe tbody tr th:only-of-type {\n",
       "        vertical-align: middle;\n",
       "    }\n",
       "\n",
       "    .dataframe tbody tr th {\n",
       "        vertical-align: top;\n",
       "    }\n",
       "\n",
       "    .dataframe thead th {\n",
       "        text-align: right;\n",
       "    }\n",
       "</style>\n",
       "<table border=\"1\" class=\"dataframe\">\n",
       "  <thead>\n",
       "    <tr style=\"text-align: right;\">\n",
       "      <th></th>\n",
       "      <th>ID</th>\n",
       "      <th>loc</th>\n",
       "      <th>title</th>\n",
       "      <th>bedroom</th>\n",
       "      <th>bathroom</th>\n",
       "      <th>parking_space</th>\n",
       "      <th>price</th>\n",
       "    </tr>\n",
       "  </thead>\n",
       "  <tbody>\n",
       "    <tr>\n",
       "      <th>0</th>\n",
       "      <td>3583.0</td>\n",
       "      <td>Katsina</td>\n",
       "      <td>Semi-detached duplex</td>\n",
       "      <td>2.0</td>\n",
       "      <td>2.0</td>\n",
       "      <td>1.0</td>\n",
       "      <td>1149999.565</td>\n",
       "    </tr>\n",
       "    <tr>\n",
       "      <th>1</th>\n",
       "      <td>2748.0</td>\n",
       "      <td>Ondo</td>\n",
       "      <td>Apartment</td>\n",
       "      <td>4.0</td>\n",
       "      <td>2.0</td>\n",
       "      <td>4.0</td>\n",
       "      <td>1672416.689</td>\n",
       "    </tr>\n",
       "    <tr>\n",
       "      <th>2</th>\n",
       "      <td>9261.0</td>\n",
       "      <td>Ekiti</td>\n",
       "      <td>Apartment</td>\n",
       "      <td>7.0</td>\n",
       "      <td>5.0</td>\n",
       "      <td>4.0</td>\n",
       "      <td>3364799.814</td>\n",
       "    </tr>\n",
       "    <tr>\n",
       "      <th>3</th>\n",
       "      <td>2224.0</td>\n",
       "      <td>Anambra</td>\n",
       "      <td>Detached duplex</td>\n",
       "      <td>5.0</td>\n",
       "      <td>2.0</td>\n",
       "      <td>4.0</td>\n",
       "      <td>2410306.756</td>\n",
       "    </tr>\n",
       "    <tr>\n",
       "      <th>4</th>\n",
       "      <td>10300.0</td>\n",
       "      <td>Kogi</td>\n",
       "      <td>Terrace duplex</td>\n",
       "      <td>4.0</td>\n",
       "      <td>5.0</td>\n",
       "      <td>6.0</td>\n",
       "      <td>2600700.898</td>\n",
       "    </tr>\n",
       "    <tr>\n",
       "      <th>...</th>\n",
       "      <td>...</td>\n",
       "      <td>...</td>\n",
       "      <td>...</td>\n",
       "      <td>...</td>\n",
       "      <td>...</td>\n",
       "      <td>...</td>\n",
       "      <td>...</td>\n",
       "    </tr>\n",
       "    <tr>\n",
       "      <th>13995</th>\n",
       "      <td>6175.0</td>\n",
       "      <td>Edo</td>\n",
       "      <td>Bungalow</td>\n",
       "      <td>4.0</td>\n",
       "      <td>7.0</td>\n",
       "      <td>3.0</td>\n",
       "      <td>2367927.861</td>\n",
       "    </tr>\n",
       "    <tr>\n",
       "      <th>13996</th>\n",
       "      <td>9704.0</td>\n",
       "      <td>Kaduna</td>\n",
       "      <td>Apartment</td>\n",
       "      <td>4.0</td>\n",
       "      <td>7.0</td>\n",
       "      <td>5.0</td>\n",
       "      <td>2228516.471</td>\n",
       "    </tr>\n",
       "    <tr>\n",
       "      <th>13997</th>\n",
       "      <td>11190.0</td>\n",
       "      <td>Plateau</td>\n",
       "      <td>Bungalow</td>\n",
       "      <td>8.0</td>\n",
       "      <td>6.0</td>\n",
       "      <td>5.0</td>\n",
       "      <td>2406812.693</td>\n",
       "    </tr>\n",
       "    <tr>\n",
       "      <th>13998</th>\n",
       "      <td>9256.0</td>\n",
       "      <td>Delta</td>\n",
       "      <td>Flat</td>\n",
       "      <td>4.0</td>\n",
       "      <td>6.0</td>\n",
       "      <td>1.0</td>\n",
       "      <td>3348918.718</td>\n",
       "    </tr>\n",
       "    <tr>\n",
       "      <th>13999</th>\n",
       "      <td>8787.0</td>\n",
       "      <td>Nasarawa</td>\n",
       "      <td>Flat</td>\n",
       "      <td>9.0</td>\n",
       "      <td>7.0</td>\n",
       "      <td>5.0</td>\n",
       "      <td>2858516.890</td>\n",
       "    </tr>\n",
       "  </tbody>\n",
       "</table>\n",
       "<p>14000 rows × 7 columns</p>\n",
       "</div>"
      ],
      "text/plain": [
       "            ID       loc                 title  bedroom  bathroom  \\\n",
       "0       3583.0   Katsina  Semi-detached duplex      2.0       2.0   \n",
       "1       2748.0      Ondo             Apartment      4.0       2.0   \n",
       "2       9261.0     Ekiti             Apartment      7.0       5.0   \n",
       "3       2224.0   Anambra       Detached duplex      5.0       2.0   \n",
       "4      10300.0      Kogi        Terrace duplex      4.0       5.0   \n",
       "...        ...       ...                   ...      ...       ...   \n",
       "13995   6175.0       Edo              Bungalow      4.0       7.0   \n",
       "13996   9704.0    Kaduna             Apartment      4.0       7.0   \n",
       "13997  11190.0   Plateau              Bungalow      8.0       6.0   \n",
       "13998   9256.0     Delta                  Flat      4.0       6.0   \n",
       "13999   8787.0  Nasarawa                  Flat      9.0       7.0   \n",
       "\n",
       "       parking_space        price  \n",
       "0                1.0  1149999.565  \n",
       "1                4.0  1672416.689  \n",
       "2                4.0  3364799.814  \n",
       "3                4.0  2410306.756  \n",
       "4                6.0  2600700.898  \n",
       "...              ...          ...  \n",
       "13995            3.0  2367927.861  \n",
       "13996            5.0  2228516.471  \n",
       "13997            5.0  2406812.693  \n",
       "13998            1.0  3348918.718  \n",
       "13999            5.0  2858516.890  \n",
       "\n",
       "[14000 rows x 7 columns]"
      ]
     },
     "execution_count": 84,
     "metadata": {},
     "output_type": "execute_result"
    }
   ],
   "source": [
    "df"
   ]
  },
  {
   "cell_type": "code",
   "execution_count": 85,
   "id": "6ae2097c",
   "metadata": {},
   "outputs": [],
   "source": [
    "loc = pd.get_dummies(df['loc'])\n",
    "title = pd.get_dummies(df['title'])\n",
    "df = pd.concat([df, loc, title], axis=1)"
   ]
  },
  {
   "cell_type": "code",
   "execution_count": 86,
   "id": "f59a04cd",
   "metadata": {},
   "outputs": [
    {
     "data": {
      "text/html": [
       "<div>\n",
       "<style scoped>\n",
       "    .dataframe tbody tr th:only-of-type {\n",
       "        vertical-align: middle;\n",
       "    }\n",
       "\n",
       "    .dataframe tbody tr th {\n",
       "        vertical-align: top;\n",
       "    }\n",
       "\n",
       "    .dataframe thead th {\n",
       "        text-align: right;\n",
       "    }\n",
       "</style>\n",
       "<table border=\"1\" class=\"dataframe\">\n",
       "  <thead>\n",
       "    <tr style=\"text-align: right;\">\n",
       "      <th></th>\n",
       "      <th>ID</th>\n",
       "      <th>loc</th>\n",
       "      <th>title</th>\n",
       "      <th>bedroom</th>\n",
       "      <th>bathroom</th>\n",
       "      <th>parking_space</th>\n",
       "      <th>price</th>\n",
       "      <th>Abia</th>\n",
       "      <th>Adamawa</th>\n",
       "      <th>Akwa Ibom</th>\n",
       "      <th>...</th>\n",
       "      <th>Apartment</th>\n",
       "      <th>Bungalow</th>\n",
       "      <th>Cottage</th>\n",
       "      <th>Detached duplex</th>\n",
       "      <th>Flat</th>\n",
       "      <th>Mansion</th>\n",
       "      <th>Penthouse</th>\n",
       "      <th>Semi-detached duplex</th>\n",
       "      <th>Terrace duplex</th>\n",
       "      <th>Townhouse</th>\n",
       "    </tr>\n",
       "  </thead>\n",
       "  <tbody>\n",
       "    <tr>\n",
       "      <th>0</th>\n",
       "      <td>3583.0</td>\n",
       "      <td>Katsina</td>\n",
       "      <td>Semi-detached duplex</td>\n",
       "      <td>2.0</td>\n",
       "      <td>2.0</td>\n",
       "      <td>1.0</td>\n",
       "      <td>1149999.565</td>\n",
       "      <td>0</td>\n",
       "      <td>0</td>\n",
       "      <td>0</td>\n",
       "      <td>...</td>\n",
       "      <td>0</td>\n",
       "      <td>0</td>\n",
       "      <td>0</td>\n",
       "      <td>0</td>\n",
       "      <td>0</td>\n",
       "      <td>0</td>\n",
       "      <td>0</td>\n",
       "      <td>1</td>\n",
       "      <td>0</td>\n",
       "      <td>0</td>\n",
       "    </tr>\n",
       "    <tr>\n",
       "      <th>1</th>\n",
       "      <td>2748.0</td>\n",
       "      <td>Ondo</td>\n",
       "      <td>Apartment</td>\n",
       "      <td>4.0</td>\n",
       "      <td>2.0</td>\n",
       "      <td>4.0</td>\n",
       "      <td>1672416.689</td>\n",
       "      <td>0</td>\n",
       "      <td>0</td>\n",
       "      <td>0</td>\n",
       "      <td>...</td>\n",
       "      <td>1</td>\n",
       "      <td>0</td>\n",
       "      <td>0</td>\n",
       "      <td>0</td>\n",
       "      <td>0</td>\n",
       "      <td>0</td>\n",
       "      <td>0</td>\n",
       "      <td>0</td>\n",
       "      <td>0</td>\n",
       "      <td>0</td>\n",
       "    </tr>\n",
       "    <tr>\n",
       "      <th>2</th>\n",
       "      <td>9261.0</td>\n",
       "      <td>Ekiti</td>\n",
       "      <td>Apartment</td>\n",
       "      <td>7.0</td>\n",
       "      <td>5.0</td>\n",
       "      <td>4.0</td>\n",
       "      <td>3364799.814</td>\n",
       "      <td>0</td>\n",
       "      <td>0</td>\n",
       "      <td>0</td>\n",
       "      <td>...</td>\n",
       "      <td>1</td>\n",
       "      <td>0</td>\n",
       "      <td>0</td>\n",
       "      <td>0</td>\n",
       "      <td>0</td>\n",
       "      <td>0</td>\n",
       "      <td>0</td>\n",
       "      <td>0</td>\n",
       "      <td>0</td>\n",
       "      <td>0</td>\n",
       "    </tr>\n",
       "    <tr>\n",
       "      <th>3</th>\n",
       "      <td>2224.0</td>\n",
       "      <td>Anambra</td>\n",
       "      <td>Detached duplex</td>\n",
       "      <td>5.0</td>\n",
       "      <td>2.0</td>\n",
       "      <td>4.0</td>\n",
       "      <td>2410306.756</td>\n",
       "      <td>0</td>\n",
       "      <td>0</td>\n",
       "      <td>0</td>\n",
       "      <td>...</td>\n",
       "      <td>0</td>\n",
       "      <td>0</td>\n",
       "      <td>0</td>\n",
       "      <td>1</td>\n",
       "      <td>0</td>\n",
       "      <td>0</td>\n",
       "      <td>0</td>\n",
       "      <td>0</td>\n",
       "      <td>0</td>\n",
       "      <td>0</td>\n",
       "    </tr>\n",
       "    <tr>\n",
       "      <th>4</th>\n",
       "      <td>10300.0</td>\n",
       "      <td>Kogi</td>\n",
       "      <td>Terrace duplex</td>\n",
       "      <td>4.0</td>\n",
       "      <td>5.0</td>\n",
       "      <td>6.0</td>\n",
       "      <td>2600700.898</td>\n",
       "      <td>0</td>\n",
       "      <td>0</td>\n",
       "      <td>0</td>\n",
       "      <td>...</td>\n",
       "      <td>0</td>\n",
       "      <td>0</td>\n",
       "      <td>0</td>\n",
       "      <td>0</td>\n",
       "      <td>0</td>\n",
       "      <td>0</td>\n",
       "      <td>0</td>\n",
       "      <td>0</td>\n",
       "      <td>1</td>\n",
       "      <td>0</td>\n",
       "    </tr>\n",
       "    <tr>\n",
       "      <th>...</th>\n",
       "      <td>...</td>\n",
       "      <td>...</td>\n",
       "      <td>...</td>\n",
       "      <td>...</td>\n",
       "      <td>...</td>\n",
       "      <td>...</td>\n",
       "      <td>...</td>\n",
       "      <td>...</td>\n",
       "      <td>...</td>\n",
       "      <td>...</td>\n",
       "      <td>...</td>\n",
       "      <td>...</td>\n",
       "      <td>...</td>\n",
       "      <td>...</td>\n",
       "      <td>...</td>\n",
       "      <td>...</td>\n",
       "      <td>...</td>\n",
       "      <td>...</td>\n",
       "      <td>...</td>\n",
       "      <td>...</td>\n",
       "      <td>...</td>\n",
       "    </tr>\n",
       "    <tr>\n",
       "      <th>13995</th>\n",
       "      <td>6175.0</td>\n",
       "      <td>Edo</td>\n",
       "      <td>Bungalow</td>\n",
       "      <td>4.0</td>\n",
       "      <td>7.0</td>\n",
       "      <td>3.0</td>\n",
       "      <td>2367927.861</td>\n",
       "      <td>0</td>\n",
       "      <td>0</td>\n",
       "      <td>0</td>\n",
       "      <td>...</td>\n",
       "      <td>0</td>\n",
       "      <td>1</td>\n",
       "      <td>0</td>\n",
       "      <td>0</td>\n",
       "      <td>0</td>\n",
       "      <td>0</td>\n",
       "      <td>0</td>\n",
       "      <td>0</td>\n",
       "      <td>0</td>\n",
       "      <td>0</td>\n",
       "    </tr>\n",
       "    <tr>\n",
       "      <th>13996</th>\n",
       "      <td>9704.0</td>\n",
       "      <td>Kaduna</td>\n",
       "      <td>Apartment</td>\n",
       "      <td>4.0</td>\n",
       "      <td>7.0</td>\n",
       "      <td>5.0</td>\n",
       "      <td>2228516.471</td>\n",
       "      <td>0</td>\n",
       "      <td>0</td>\n",
       "      <td>0</td>\n",
       "      <td>...</td>\n",
       "      <td>1</td>\n",
       "      <td>0</td>\n",
       "      <td>0</td>\n",
       "      <td>0</td>\n",
       "      <td>0</td>\n",
       "      <td>0</td>\n",
       "      <td>0</td>\n",
       "      <td>0</td>\n",
       "      <td>0</td>\n",
       "      <td>0</td>\n",
       "    </tr>\n",
       "    <tr>\n",
       "      <th>13997</th>\n",
       "      <td>11190.0</td>\n",
       "      <td>Plateau</td>\n",
       "      <td>Bungalow</td>\n",
       "      <td>8.0</td>\n",
       "      <td>6.0</td>\n",
       "      <td>5.0</td>\n",
       "      <td>2406812.693</td>\n",
       "      <td>0</td>\n",
       "      <td>0</td>\n",
       "      <td>0</td>\n",
       "      <td>...</td>\n",
       "      <td>0</td>\n",
       "      <td>1</td>\n",
       "      <td>0</td>\n",
       "      <td>0</td>\n",
       "      <td>0</td>\n",
       "      <td>0</td>\n",
       "      <td>0</td>\n",
       "      <td>0</td>\n",
       "      <td>0</td>\n",
       "      <td>0</td>\n",
       "    </tr>\n",
       "    <tr>\n",
       "      <th>13998</th>\n",
       "      <td>9256.0</td>\n",
       "      <td>Delta</td>\n",
       "      <td>Flat</td>\n",
       "      <td>4.0</td>\n",
       "      <td>6.0</td>\n",
       "      <td>1.0</td>\n",
       "      <td>3348918.718</td>\n",
       "      <td>0</td>\n",
       "      <td>0</td>\n",
       "      <td>0</td>\n",
       "      <td>...</td>\n",
       "      <td>0</td>\n",
       "      <td>0</td>\n",
       "      <td>0</td>\n",
       "      <td>0</td>\n",
       "      <td>1</td>\n",
       "      <td>0</td>\n",
       "      <td>0</td>\n",
       "      <td>0</td>\n",
       "      <td>0</td>\n",
       "      <td>0</td>\n",
       "    </tr>\n",
       "    <tr>\n",
       "      <th>13999</th>\n",
       "      <td>8787.0</td>\n",
       "      <td>Nasarawa</td>\n",
       "      <td>Flat</td>\n",
       "      <td>9.0</td>\n",
       "      <td>7.0</td>\n",
       "      <td>5.0</td>\n",
       "      <td>2858516.890</td>\n",
       "      <td>0</td>\n",
       "      <td>0</td>\n",
       "      <td>0</td>\n",
       "      <td>...</td>\n",
       "      <td>0</td>\n",
       "      <td>0</td>\n",
       "      <td>0</td>\n",
       "      <td>0</td>\n",
       "      <td>1</td>\n",
       "      <td>0</td>\n",
       "      <td>0</td>\n",
       "      <td>0</td>\n",
       "      <td>0</td>\n",
       "      <td>0</td>\n",
       "    </tr>\n",
       "  </tbody>\n",
       "</table>\n",
       "<p>14000 rows × 53 columns</p>\n",
       "</div>"
      ],
      "text/plain": [
       "            ID       loc                 title  bedroom  bathroom  \\\n",
       "0       3583.0   Katsina  Semi-detached duplex      2.0       2.0   \n",
       "1       2748.0      Ondo             Apartment      4.0       2.0   \n",
       "2       9261.0     Ekiti             Apartment      7.0       5.0   \n",
       "3       2224.0   Anambra       Detached duplex      5.0       2.0   \n",
       "4      10300.0      Kogi        Terrace duplex      4.0       5.0   \n",
       "...        ...       ...                   ...      ...       ...   \n",
       "13995   6175.0       Edo              Bungalow      4.0       7.0   \n",
       "13996   9704.0    Kaduna             Apartment      4.0       7.0   \n",
       "13997  11190.0   Plateau              Bungalow      8.0       6.0   \n",
       "13998   9256.0     Delta                  Flat      4.0       6.0   \n",
       "13999   8787.0  Nasarawa                  Flat      9.0       7.0   \n",
       "\n",
       "       parking_space        price  Abia  Adamawa  Akwa Ibom  ...  Apartment  \\\n",
       "0                1.0  1149999.565     0        0          0  ...          0   \n",
       "1                4.0  1672416.689     0        0          0  ...          1   \n",
       "2                4.0  3364799.814     0        0          0  ...          1   \n",
       "3                4.0  2410306.756     0        0          0  ...          0   \n",
       "4                6.0  2600700.898     0        0          0  ...          0   \n",
       "...              ...          ...   ...      ...        ...  ...        ...   \n",
       "13995            3.0  2367927.861     0        0          0  ...          0   \n",
       "13996            5.0  2228516.471     0        0          0  ...          1   \n",
       "13997            5.0  2406812.693     0        0          0  ...          0   \n",
       "13998            1.0  3348918.718     0        0          0  ...          0   \n",
       "13999            5.0  2858516.890     0        0          0  ...          0   \n",
       "\n",
       "       Bungalow  Cottage  Detached duplex  Flat  Mansion  Penthouse  \\\n",
       "0             0        0                0     0        0          0   \n",
       "1             0        0                0     0        0          0   \n",
       "2             0        0                0     0        0          0   \n",
       "3             0        0                1     0        0          0   \n",
       "4             0        0                0     0        0          0   \n",
       "...         ...      ...              ...   ...      ...        ...   \n",
       "13995         1        0                0     0        0          0   \n",
       "13996         0        0                0     0        0          0   \n",
       "13997         1        0                0     0        0          0   \n",
       "13998         0        0                0     1        0          0   \n",
       "13999         0        0                0     1        0          0   \n",
       "\n",
       "       Semi-detached duplex  Terrace duplex  Townhouse  \n",
       "0                         1               0          0  \n",
       "1                         0               0          0  \n",
       "2                         0               0          0  \n",
       "3                         0               0          0  \n",
       "4                         0               1          0  \n",
       "...                     ...             ...        ...  \n",
       "13995                     0               0          0  \n",
       "13996                     0               0          0  \n",
       "13997                     0               0          0  \n",
       "13998                     0               0          0  \n",
       "13999                     0               0          0  \n",
       "\n",
       "[14000 rows x 53 columns]"
      ]
     },
     "execution_count": 86,
     "metadata": {},
     "output_type": "execute_result"
    }
   ],
   "source": [
    "df"
   ]
  },
  {
   "cell_type": "code",
   "execution_count": 87,
   "id": "cf0b771f",
   "metadata": {},
   "outputs": [],
   "source": [
    "x = df.drop(['ID','price', 'loc', 'title'], axis=1)\n",
    "y = df['price']\n",
    "             "
   ]
  },
  {
   "cell_type": "code",
   "execution_count": 88,
   "id": "2836a475",
   "metadata": {},
   "outputs": [],
   "source": [
    "x = x.values.reshape(-1, 49)"
   ]
  },
  {
   "cell_type": "code",
   "execution_count": 89,
   "id": "6a38c42f",
   "metadata": {},
   "outputs": [],
   "source": [
    "y = y.values.reshape(-1,1)"
   ]
  },
  {
   "cell_type": "code",
   "execution_count": 90,
   "id": "7835d686",
   "metadata": {},
   "outputs": [],
   "source": [
    "from sklearn.model_selection import train_test_split"
   ]
  },
  {
   "cell_type": "code",
   "execution_count": 91,
   "id": "7883eefa",
   "metadata": {},
   "outputs": [],
   "source": [
    "xtrain, xtest, ytrain, ytest = train_test_split(x, y)"
   ]
  },
  {
   "cell_type": "code",
   "execution_count": 92,
   "id": "973a1c2a",
   "metadata": {},
   "outputs": [],
   "source": [
    "lr = LinearRegression()"
   ]
  },
  {
   "cell_type": "code",
   "execution_count": 93,
   "id": "3b327f7d",
   "metadata": {},
   "outputs": [
    {
     "data": {
      "text/html": [
       "<style>#sk-container-id-1 {color: black;background-color: white;}#sk-container-id-1 pre{padding: 0;}#sk-container-id-1 div.sk-toggleable {background-color: white;}#sk-container-id-1 label.sk-toggleable__label {cursor: pointer;display: block;width: 100%;margin-bottom: 0;padding: 0.3em;box-sizing: border-box;text-align: center;}#sk-container-id-1 label.sk-toggleable__label-arrow:before {content: \"▸\";float: left;margin-right: 0.25em;color: #696969;}#sk-container-id-1 label.sk-toggleable__label-arrow:hover:before {color: black;}#sk-container-id-1 div.sk-estimator:hover label.sk-toggleable__label-arrow:before {color: black;}#sk-container-id-1 div.sk-toggleable__content {max-height: 0;max-width: 0;overflow: hidden;text-align: left;background-color: #f0f8ff;}#sk-container-id-1 div.sk-toggleable__content pre {margin: 0.2em;color: black;border-radius: 0.25em;background-color: #f0f8ff;}#sk-container-id-1 input.sk-toggleable__control:checked~div.sk-toggleable__content {max-height: 200px;max-width: 100%;overflow: auto;}#sk-container-id-1 input.sk-toggleable__control:checked~label.sk-toggleable__label-arrow:before {content: \"▾\";}#sk-container-id-1 div.sk-estimator input.sk-toggleable__control:checked~label.sk-toggleable__label {background-color: #d4ebff;}#sk-container-id-1 div.sk-label input.sk-toggleable__control:checked~label.sk-toggleable__label {background-color: #d4ebff;}#sk-container-id-1 input.sk-hidden--visually {border: 0;clip: rect(1px 1px 1px 1px);clip: rect(1px, 1px, 1px, 1px);height: 1px;margin: -1px;overflow: hidden;padding: 0;position: absolute;width: 1px;}#sk-container-id-1 div.sk-estimator {font-family: monospace;background-color: #f0f8ff;border: 1px dotted black;border-radius: 0.25em;box-sizing: border-box;margin-bottom: 0.5em;}#sk-container-id-1 div.sk-estimator:hover {background-color: #d4ebff;}#sk-container-id-1 div.sk-parallel-item::after {content: \"\";width: 100%;border-bottom: 1px solid gray;flex-grow: 1;}#sk-container-id-1 div.sk-label:hover label.sk-toggleable__label {background-color: #d4ebff;}#sk-container-id-1 div.sk-serial::before {content: \"\";position: absolute;border-left: 1px solid gray;box-sizing: border-box;top: 0;bottom: 0;left: 50%;z-index: 0;}#sk-container-id-1 div.sk-serial {display: flex;flex-direction: column;align-items: center;background-color: white;padding-right: 0.2em;padding-left: 0.2em;position: relative;}#sk-container-id-1 div.sk-item {position: relative;z-index: 1;}#sk-container-id-1 div.sk-parallel {display: flex;align-items: stretch;justify-content: center;background-color: white;position: relative;}#sk-container-id-1 div.sk-item::before, #sk-container-id-1 div.sk-parallel-item::before {content: \"\";position: absolute;border-left: 1px solid gray;box-sizing: border-box;top: 0;bottom: 0;left: 50%;z-index: -1;}#sk-container-id-1 div.sk-parallel-item {display: flex;flex-direction: column;z-index: 1;position: relative;background-color: white;}#sk-container-id-1 div.sk-parallel-item:first-child::after {align-self: flex-end;width: 50%;}#sk-container-id-1 div.sk-parallel-item:last-child::after {align-self: flex-start;width: 50%;}#sk-container-id-1 div.sk-parallel-item:only-child::after {width: 0;}#sk-container-id-1 div.sk-dashed-wrapped {border: 1px dashed gray;margin: 0 0.4em 0.5em 0.4em;box-sizing: border-box;padding-bottom: 0.4em;background-color: white;}#sk-container-id-1 div.sk-label label {font-family: monospace;font-weight: bold;display: inline-block;line-height: 1.2em;}#sk-container-id-1 div.sk-label-container {text-align: center;}#sk-container-id-1 div.sk-container {/* jupyter's `normalize.less` sets `[hidden] { display: none; }` but bootstrap.min.css set `[hidden] { display: none !important; }` so we also need the `!important` here to be able to override the default hidden behavior on the sphinx rendered scikit-learn.org. See: https://github.com/scikit-learn/scikit-learn/issues/21755 */display: inline-block !important;position: relative;}#sk-container-id-1 div.sk-text-repr-fallback {display: none;}</style><div id=\"sk-container-id-1\" class=\"sk-top-container\"><div class=\"sk-text-repr-fallback\"><pre>LinearRegression()</pre><b>In a Jupyter environment, please rerun this cell to show the HTML representation or trust the notebook. <br />On GitHub, the HTML representation is unable to render, please try loading this page with nbviewer.org.</b></div><div class=\"sk-container\" hidden><div class=\"sk-item\"><div class=\"sk-estimator sk-toggleable\"><input class=\"sk-toggleable__control sk-hidden--visually\" id=\"sk-estimator-id-1\" type=\"checkbox\" checked><label for=\"sk-estimator-id-1\" class=\"sk-toggleable__label sk-toggleable__label-arrow\">LinearRegression</label><div class=\"sk-toggleable__content\"><pre>LinearRegression()</pre></div></div></div></div></div>"
      ],
      "text/plain": [
       "LinearRegression()"
      ]
     },
     "execution_count": 93,
     "metadata": {},
     "output_type": "execute_result"
    }
   ],
   "source": [
    "lr.fit(xtrain, ytrain)"
   ]
  },
  {
   "cell_type": "code",
   "execution_count": 94,
   "id": "971db16f",
   "metadata": {},
   "outputs": [],
   "source": [
    "pred = lr.predict(xtest)"
   ]
  },
  {
   "cell_type": "code",
   "execution_count": 95,
   "id": "04551d2f",
   "metadata": {},
   "outputs": [
    {
     "data": {
      "text/plain": [
       "639822.4116216615"
      ]
     },
     "execution_count": 95,
     "metadata": {},
     "output_type": "execute_result"
    }
   ],
   "source": [
    "get_rmse(pred, ytest)"
   ]
  },
  {
   "cell_type": "code",
   "execution_count": 96,
   "id": "1d58c281",
   "metadata": {},
   "outputs": [],
   "source": [
    "knn = KNeighborsRegressor(n_neighbors =140)"
   ]
  },
  {
   "cell_type": "code",
   "execution_count": 97,
   "id": "f4eab847",
   "metadata": {},
   "outputs": [
    {
     "data": {
      "text/html": [
       "<style>#sk-container-id-2 {color: black;background-color: white;}#sk-container-id-2 pre{padding: 0;}#sk-container-id-2 div.sk-toggleable {background-color: white;}#sk-container-id-2 label.sk-toggleable__label {cursor: pointer;display: block;width: 100%;margin-bottom: 0;padding: 0.3em;box-sizing: border-box;text-align: center;}#sk-container-id-2 label.sk-toggleable__label-arrow:before {content: \"▸\";float: left;margin-right: 0.25em;color: #696969;}#sk-container-id-2 label.sk-toggleable__label-arrow:hover:before {color: black;}#sk-container-id-2 div.sk-estimator:hover label.sk-toggleable__label-arrow:before {color: black;}#sk-container-id-2 div.sk-toggleable__content {max-height: 0;max-width: 0;overflow: hidden;text-align: left;background-color: #f0f8ff;}#sk-container-id-2 div.sk-toggleable__content pre {margin: 0.2em;color: black;border-radius: 0.25em;background-color: #f0f8ff;}#sk-container-id-2 input.sk-toggleable__control:checked~div.sk-toggleable__content {max-height: 200px;max-width: 100%;overflow: auto;}#sk-container-id-2 input.sk-toggleable__control:checked~label.sk-toggleable__label-arrow:before {content: \"▾\";}#sk-container-id-2 div.sk-estimator input.sk-toggleable__control:checked~label.sk-toggleable__label {background-color: #d4ebff;}#sk-container-id-2 div.sk-label input.sk-toggleable__control:checked~label.sk-toggleable__label {background-color: #d4ebff;}#sk-container-id-2 input.sk-hidden--visually {border: 0;clip: rect(1px 1px 1px 1px);clip: rect(1px, 1px, 1px, 1px);height: 1px;margin: -1px;overflow: hidden;padding: 0;position: absolute;width: 1px;}#sk-container-id-2 div.sk-estimator {font-family: monospace;background-color: #f0f8ff;border: 1px dotted black;border-radius: 0.25em;box-sizing: border-box;margin-bottom: 0.5em;}#sk-container-id-2 div.sk-estimator:hover {background-color: #d4ebff;}#sk-container-id-2 div.sk-parallel-item::after {content: \"\";width: 100%;border-bottom: 1px solid gray;flex-grow: 1;}#sk-container-id-2 div.sk-label:hover label.sk-toggleable__label {background-color: #d4ebff;}#sk-container-id-2 div.sk-serial::before {content: \"\";position: absolute;border-left: 1px solid gray;box-sizing: border-box;top: 0;bottom: 0;left: 50%;z-index: 0;}#sk-container-id-2 div.sk-serial {display: flex;flex-direction: column;align-items: center;background-color: white;padding-right: 0.2em;padding-left: 0.2em;position: relative;}#sk-container-id-2 div.sk-item {position: relative;z-index: 1;}#sk-container-id-2 div.sk-parallel {display: flex;align-items: stretch;justify-content: center;background-color: white;position: relative;}#sk-container-id-2 div.sk-item::before, #sk-container-id-2 div.sk-parallel-item::before {content: \"\";position: absolute;border-left: 1px solid gray;box-sizing: border-box;top: 0;bottom: 0;left: 50%;z-index: -1;}#sk-container-id-2 div.sk-parallel-item {display: flex;flex-direction: column;z-index: 1;position: relative;background-color: white;}#sk-container-id-2 div.sk-parallel-item:first-child::after {align-self: flex-end;width: 50%;}#sk-container-id-2 div.sk-parallel-item:last-child::after {align-self: flex-start;width: 50%;}#sk-container-id-2 div.sk-parallel-item:only-child::after {width: 0;}#sk-container-id-2 div.sk-dashed-wrapped {border: 1px dashed gray;margin: 0 0.4em 0.5em 0.4em;box-sizing: border-box;padding-bottom: 0.4em;background-color: white;}#sk-container-id-2 div.sk-label label {font-family: monospace;font-weight: bold;display: inline-block;line-height: 1.2em;}#sk-container-id-2 div.sk-label-container {text-align: center;}#sk-container-id-2 div.sk-container {/* jupyter's `normalize.less` sets `[hidden] { display: none; }` but bootstrap.min.css set `[hidden] { display: none !important; }` so we also need the `!important` here to be able to override the default hidden behavior on the sphinx rendered scikit-learn.org. See: https://github.com/scikit-learn/scikit-learn/issues/21755 */display: inline-block !important;position: relative;}#sk-container-id-2 div.sk-text-repr-fallback {display: none;}</style><div id=\"sk-container-id-2\" class=\"sk-top-container\"><div class=\"sk-text-repr-fallback\"><pre>KNeighborsRegressor(n_neighbors=140)</pre><b>In a Jupyter environment, please rerun this cell to show the HTML representation or trust the notebook. <br />On GitHub, the HTML representation is unable to render, please try loading this page with nbviewer.org.</b></div><div class=\"sk-container\" hidden><div class=\"sk-item\"><div class=\"sk-estimator sk-toggleable\"><input class=\"sk-toggleable__control sk-hidden--visually\" id=\"sk-estimator-id-2\" type=\"checkbox\" checked><label for=\"sk-estimator-id-2\" class=\"sk-toggleable__label sk-toggleable__label-arrow\">KNeighborsRegressor</label><div class=\"sk-toggleable__content\"><pre>KNeighborsRegressor(n_neighbors=140)</pre></div></div></div></div></div>"
      ],
      "text/plain": [
       "KNeighborsRegressor(n_neighbors=140)"
      ]
     },
     "execution_count": 97,
     "metadata": {},
     "output_type": "execute_result"
    }
   ],
   "source": [
    "knn.fit(xtrain,ytrain)"
   ]
  },
  {
   "cell_type": "code",
   "execution_count": 98,
   "id": "58754e27",
   "metadata": {},
   "outputs": [],
   "source": [
    "predkn = knn.predict(xtest)"
   ]
  },
  {
   "cell_type": "code",
   "execution_count": 99,
   "id": "9843fe74",
   "metadata": {},
   "outputs": [
    {
     "data": {
      "text/plain": [
       "819943.9801830072"
      ]
     },
     "execution_count": 99,
     "metadata": {},
     "output_type": "execute_result"
    }
   ],
   "source": [
    "get_rmse(predkn, ytest)"
   ]
  },
  {
   "cell_type": "code",
   "execution_count": 100,
   "id": "8dc46d31",
   "metadata": {},
   "outputs": [],
   "source": [
    "dt = DecisionTreeRegressor(max_depth = 3)"
   ]
  },
  {
   "cell_type": "code",
   "execution_count": 101,
   "id": "50b72712",
   "metadata": {},
   "outputs": [
    {
     "data": {
      "text/html": [
       "<style>#sk-container-id-3 {color: black;background-color: white;}#sk-container-id-3 pre{padding: 0;}#sk-container-id-3 div.sk-toggleable {background-color: white;}#sk-container-id-3 label.sk-toggleable__label {cursor: pointer;display: block;width: 100%;margin-bottom: 0;padding: 0.3em;box-sizing: border-box;text-align: center;}#sk-container-id-3 label.sk-toggleable__label-arrow:before {content: \"▸\";float: left;margin-right: 0.25em;color: #696969;}#sk-container-id-3 label.sk-toggleable__label-arrow:hover:before {color: black;}#sk-container-id-3 div.sk-estimator:hover label.sk-toggleable__label-arrow:before {color: black;}#sk-container-id-3 div.sk-toggleable__content {max-height: 0;max-width: 0;overflow: hidden;text-align: left;background-color: #f0f8ff;}#sk-container-id-3 div.sk-toggleable__content pre {margin: 0.2em;color: black;border-radius: 0.25em;background-color: #f0f8ff;}#sk-container-id-3 input.sk-toggleable__control:checked~div.sk-toggleable__content {max-height: 200px;max-width: 100%;overflow: auto;}#sk-container-id-3 input.sk-toggleable__control:checked~label.sk-toggleable__label-arrow:before {content: \"▾\";}#sk-container-id-3 div.sk-estimator input.sk-toggleable__control:checked~label.sk-toggleable__label {background-color: #d4ebff;}#sk-container-id-3 div.sk-label input.sk-toggleable__control:checked~label.sk-toggleable__label {background-color: #d4ebff;}#sk-container-id-3 input.sk-hidden--visually {border: 0;clip: rect(1px 1px 1px 1px);clip: rect(1px, 1px, 1px, 1px);height: 1px;margin: -1px;overflow: hidden;padding: 0;position: absolute;width: 1px;}#sk-container-id-3 div.sk-estimator {font-family: monospace;background-color: #f0f8ff;border: 1px dotted black;border-radius: 0.25em;box-sizing: border-box;margin-bottom: 0.5em;}#sk-container-id-3 div.sk-estimator:hover {background-color: #d4ebff;}#sk-container-id-3 div.sk-parallel-item::after {content: \"\";width: 100%;border-bottom: 1px solid gray;flex-grow: 1;}#sk-container-id-3 div.sk-label:hover label.sk-toggleable__label {background-color: #d4ebff;}#sk-container-id-3 div.sk-serial::before {content: \"\";position: absolute;border-left: 1px solid gray;box-sizing: border-box;top: 0;bottom: 0;left: 50%;z-index: 0;}#sk-container-id-3 div.sk-serial {display: flex;flex-direction: column;align-items: center;background-color: white;padding-right: 0.2em;padding-left: 0.2em;position: relative;}#sk-container-id-3 div.sk-item {position: relative;z-index: 1;}#sk-container-id-3 div.sk-parallel {display: flex;align-items: stretch;justify-content: center;background-color: white;position: relative;}#sk-container-id-3 div.sk-item::before, #sk-container-id-3 div.sk-parallel-item::before {content: \"\";position: absolute;border-left: 1px solid gray;box-sizing: border-box;top: 0;bottom: 0;left: 50%;z-index: -1;}#sk-container-id-3 div.sk-parallel-item {display: flex;flex-direction: column;z-index: 1;position: relative;background-color: white;}#sk-container-id-3 div.sk-parallel-item:first-child::after {align-self: flex-end;width: 50%;}#sk-container-id-3 div.sk-parallel-item:last-child::after {align-self: flex-start;width: 50%;}#sk-container-id-3 div.sk-parallel-item:only-child::after {width: 0;}#sk-container-id-3 div.sk-dashed-wrapped {border: 1px dashed gray;margin: 0 0.4em 0.5em 0.4em;box-sizing: border-box;padding-bottom: 0.4em;background-color: white;}#sk-container-id-3 div.sk-label label {font-family: monospace;font-weight: bold;display: inline-block;line-height: 1.2em;}#sk-container-id-3 div.sk-label-container {text-align: center;}#sk-container-id-3 div.sk-container {/* jupyter's `normalize.less` sets `[hidden] { display: none; }` but bootstrap.min.css set `[hidden] { display: none !important; }` so we also need the `!important` here to be able to override the default hidden behavior on the sphinx rendered scikit-learn.org. See: https://github.com/scikit-learn/scikit-learn/issues/21755 */display: inline-block !important;position: relative;}#sk-container-id-3 div.sk-text-repr-fallback {display: none;}</style><div id=\"sk-container-id-3\" class=\"sk-top-container\"><div class=\"sk-text-repr-fallback\"><pre>DecisionTreeRegressor(max_depth=3)</pre><b>In a Jupyter environment, please rerun this cell to show the HTML representation or trust the notebook. <br />On GitHub, the HTML representation is unable to render, please try loading this page with nbviewer.org.</b></div><div class=\"sk-container\" hidden><div class=\"sk-item\"><div class=\"sk-estimator sk-toggleable\"><input class=\"sk-toggleable__control sk-hidden--visually\" id=\"sk-estimator-id-3\" type=\"checkbox\" checked><label for=\"sk-estimator-id-3\" class=\"sk-toggleable__label sk-toggleable__label-arrow\">DecisionTreeRegressor</label><div class=\"sk-toggleable__content\"><pre>DecisionTreeRegressor(max_depth=3)</pre></div></div></div></div></div>"
      ],
      "text/plain": [
       "DecisionTreeRegressor(max_depth=3)"
      ]
     },
     "execution_count": 101,
     "metadata": {},
     "output_type": "execute_result"
    }
   ],
   "source": [
    "dt.fit(xtrain, ytrain)"
   ]
  },
  {
   "cell_type": "code",
   "execution_count": 102,
   "id": "173c5db2",
   "metadata": {},
   "outputs": [],
   "source": [
    "pred_dt = dt.predict(xtest)"
   ]
  },
  {
   "cell_type": "code",
   "execution_count": 103,
   "id": "7ea17393",
   "metadata": {},
   "outputs": [
    {
     "data": {
      "text/plain": [
       "804299.9355574625"
      ]
     },
     "execution_count": 103,
     "metadata": {},
     "output_type": "execute_result"
    }
   ],
   "source": [
    "get_rmse(pred_dt, ytest)"
   ]
  },
  {
   "cell_type": "code",
   "execution_count": 104,
   "id": "a9d8fd55",
   "metadata": {},
   "outputs": [],
   "source": [
    "rf = RandomForestRegressor()"
   ]
  },
  {
   "cell_type": "code",
   "execution_count": 105,
   "id": "aacc4420",
   "metadata": {},
   "outputs": [
    {
     "name": "stderr",
     "output_type": "stream",
     "text": [
      "C:\\Users\\kikio\\AppData\\Local\\Temp\\ipykernel_7516\\9334975.py:1: DataConversionWarning: A column-vector y was passed when a 1d array was expected. Please change the shape of y to (n_samples,), for example using ravel().\n",
      "  rf.fit(xtrain, ytrain)\n"
     ]
    },
    {
     "data": {
      "text/html": [
       "<style>#sk-container-id-4 {color: black;background-color: white;}#sk-container-id-4 pre{padding: 0;}#sk-container-id-4 div.sk-toggleable {background-color: white;}#sk-container-id-4 label.sk-toggleable__label {cursor: pointer;display: block;width: 100%;margin-bottom: 0;padding: 0.3em;box-sizing: border-box;text-align: center;}#sk-container-id-4 label.sk-toggleable__label-arrow:before {content: \"▸\";float: left;margin-right: 0.25em;color: #696969;}#sk-container-id-4 label.sk-toggleable__label-arrow:hover:before {color: black;}#sk-container-id-4 div.sk-estimator:hover label.sk-toggleable__label-arrow:before {color: black;}#sk-container-id-4 div.sk-toggleable__content {max-height: 0;max-width: 0;overflow: hidden;text-align: left;background-color: #f0f8ff;}#sk-container-id-4 div.sk-toggleable__content pre {margin: 0.2em;color: black;border-radius: 0.25em;background-color: #f0f8ff;}#sk-container-id-4 input.sk-toggleable__control:checked~div.sk-toggleable__content {max-height: 200px;max-width: 100%;overflow: auto;}#sk-container-id-4 input.sk-toggleable__control:checked~label.sk-toggleable__label-arrow:before {content: \"▾\";}#sk-container-id-4 div.sk-estimator input.sk-toggleable__control:checked~label.sk-toggleable__label {background-color: #d4ebff;}#sk-container-id-4 div.sk-label input.sk-toggleable__control:checked~label.sk-toggleable__label {background-color: #d4ebff;}#sk-container-id-4 input.sk-hidden--visually {border: 0;clip: rect(1px 1px 1px 1px);clip: rect(1px, 1px, 1px, 1px);height: 1px;margin: -1px;overflow: hidden;padding: 0;position: absolute;width: 1px;}#sk-container-id-4 div.sk-estimator {font-family: monospace;background-color: #f0f8ff;border: 1px dotted black;border-radius: 0.25em;box-sizing: border-box;margin-bottom: 0.5em;}#sk-container-id-4 div.sk-estimator:hover {background-color: #d4ebff;}#sk-container-id-4 div.sk-parallel-item::after {content: \"\";width: 100%;border-bottom: 1px solid gray;flex-grow: 1;}#sk-container-id-4 div.sk-label:hover label.sk-toggleable__label {background-color: #d4ebff;}#sk-container-id-4 div.sk-serial::before {content: \"\";position: absolute;border-left: 1px solid gray;box-sizing: border-box;top: 0;bottom: 0;left: 50%;z-index: 0;}#sk-container-id-4 div.sk-serial {display: flex;flex-direction: column;align-items: center;background-color: white;padding-right: 0.2em;padding-left: 0.2em;position: relative;}#sk-container-id-4 div.sk-item {position: relative;z-index: 1;}#sk-container-id-4 div.sk-parallel {display: flex;align-items: stretch;justify-content: center;background-color: white;position: relative;}#sk-container-id-4 div.sk-item::before, #sk-container-id-4 div.sk-parallel-item::before {content: \"\";position: absolute;border-left: 1px solid gray;box-sizing: border-box;top: 0;bottom: 0;left: 50%;z-index: -1;}#sk-container-id-4 div.sk-parallel-item {display: flex;flex-direction: column;z-index: 1;position: relative;background-color: white;}#sk-container-id-4 div.sk-parallel-item:first-child::after {align-self: flex-end;width: 50%;}#sk-container-id-4 div.sk-parallel-item:last-child::after {align-self: flex-start;width: 50%;}#sk-container-id-4 div.sk-parallel-item:only-child::after {width: 0;}#sk-container-id-4 div.sk-dashed-wrapped {border: 1px dashed gray;margin: 0 0.4em 0.5em 0.4em;box-sizing: border-box;padding-bottom: 0.4em;background-color: white;}#sk-container-id-4 div.sk-label label {font-family: monospace;font-weight: bold;display: inline-block;line-height: 1.2em;}#sk-container-id-4 div.sk-label-container {text-align: center;}#sk-container-id-4 div.sk-container {/* jupyter's `normalize.less` sets `[hidden] { display: none; }` but bootstrap.min.css set `[hidden] { display: none !important; }` so we also need the `!important` here to be able to override the default hidden behavior on the sphinx rendered scikit-learn.org. See: https://github.com/scikit-learn/scikit-learn/issues/21755 */display: inline-block !important;position: relative;}#sk-container-id-4 div.sk-text-repr-fallback {display: none;}</style><div id=\"sk-container-id-4\" class=\"sk-top-container\"><div class=\"sk-text-repr-fallback\"><pre>RandomForestRegressor()</pre><b>In a Jupyter environment, please rerun this cell to show the HTML representation or trust the notebook. <br />On GitHub, the HTML representation is unable to render, please try loading this page with nbviewer.org.</b></div><div class=\"sk-container\" hidden><div class=\"sk-item\"><div class=\"sk-estimator sk-toggleable\"><input class=\"sk-toggleable__control sk-hidden--visually\" id=\"sk-estimator-id-4\" type=\"checkbox\" checked><label for=\"sk-estimator-id-4\" class=\"sk-toggleable__label sk-toggleable__label-arrow\">RandomForestRegressor</label><div class=\"sk-toggleable__content\"><pre>RandomForestRegressor()</pre></div></div></div></div></div>"
      ],
      "text/plain": [
       "RandomForestRegressor()"
      ]
     },
     "execution_count": 105,
     "metadata": {},
     "output_type": "execute_result"
    }
   ],
   "source": [
    "rf.fit(xtrain, ytrain)"
   ]
  },
  {
   "cell_type": "code",
   "execution_count": 106,
   "id": "524b9570",
   "metadata": {},
   "outputs": [],
   "source": [
    "predrf = rf.predict(xtest)"
   ]
  },
  {
   "cell_type": "code",
   "execution_count": 107,
   "id": "3581d8de",
   "metadata": {},
   "outputs": [
    {
     "data": {
      "text/plain": [
       "694031.8741946294"
      ]
     },
     "execution_count": 107,
     "metadata": {},
     "output_type": "execute_result"
    }
   ],
   "source": [
    "get_rmse(predrf, ytest)"
   ]
  },
  {
   "cell_type": "code",
   "execution_count": 108,
   "id": "c15fcb13",
   "metadata": {},
   "outputs": [
    {
     "data": {
      "text/html": [
       "<div>\n",
       "<style scoped>\n",
       "    .dataframe tbody tr th:only-of-type {\n",
       "        vertical-align: middle;\n",
       "    }\n",
       "\n",
       "    .dataframe tbody tr th {\n",
       "        vertical-align: top;\n",
       "    }\n",
       "\n",
       "    .dataframe thead th {\n",
       "        text-align: right;\n",
       "    }\n",
       "</style>\n",
       "<table border=\"1\" class=\"dataframe\">\n",
       "  <thead>\n",
       "    <tr style=\"text-align: right;\">\n",
       "      <th></th>\n",
       "      <th>ID</th>\n",
       "      <th>loc</th>\n",
       "      <th>title</th>\n",
       "      <th>bedroom</th>\n",
       "      <th>bathroom</th>\n",
       "      <th>parking_space</th>\n",
       "    </tr>\n",
       "  </thead>\n",
       "  <tbody>\n",
       "    <tr>\n",
       "      <th>0</th>\n",
       "      <td>845</td>\n",
       "      <td>Kano</td>\n",
       "      <td>Penthouse</td>\n",
       "      <td>4</td>\n",
       "      <td>1</td>\n",
       "      <td>2</td>\n",
       "    </tr>\n",
       "    <tr>\n",
       "      <th>1</th>\n",
       "      <td>1924</td>\n",
       "      <td>Adamawa</td>\n",
       "      <td>Apartment</td>\n",
       "      <td>2</td>\n",
       "      <td>2</td>\n",
       "      <td>4</td>\n",
       "    </tr>\n",
       "    <tr>\n",
       "      <th>2</th>\n",
       "      <td>10718</td>\n",
       "      <td>Adamawa</td>\n",
       "      <td>Bungalow</td>\n",
       "      <td>2</td>\n",
       "      <td>7</td>\n",
       "      <td>2</td>\n",
       "    </tr>\n",
       "    <tr>\n",
       "      <th>3</th>\n",
       "      <td>12076</td>\n",
       "      <td>Lagos</td>\n",
       "      <td>Mansion</td>\n",
       "      <td>9</td>\n",
       "      <td>5</td>\n",
       "      <td>2</td>\n",
       "    </tr>\n",
       "    <tr>\n",
       "      <th>4</th>\n",
       "      <td>12254</td>\n",
       "      <td>Gombe</td>\n",
       "      <td>Semi-detached duplex</td>\n",
       "      <td>5</td>\n",
       "      <td>6</td>\n",
       "      <td>1</td>\n",
       "    </tr>\n",
       "    <tr>\n",
       "      <th>...</th>\n",
       "      <td>...</td>\n",
       "      <td>...</td>\n",
       "      <td>...</td>\n",
       "      <td>...</td>\n",
       "      <td>...</td>\n",
       "      <td>...</td>\n",
       "    </tr>\n",
       "    <tr>\n",
       "      <th>5995</th>\n",
       "      <td>1594</td>\n",
       "      <td>Ekiti</td>\n",
       "      <td>Flat</td>\n",
       "      <td>4</td>\n",
       "      <td>5</td>\n",
       "      <td>2</td>\n",
       "    </tr>\n",
       "    <tr>\n",
       "      <th>5996</th>\n",
       "      <td>2416</td>\n",
       "      <td>Adamawa</td>\n",
       "      <td>Terrace duplex</td>\n",
       "      <td>5</td>\n",
       "      <td>7</td>\n",
       "      <td>1</td>\n",
       "    </tr>\n",
       "    <tr>\n",
       "      <th>5997</th>\n",
       "      <td>10195</td>\n",
       "      <td>Oyo</td>\n",
       "      <td>Townhouse</td>\n",
       "      <td>4</td>\n",
       "      <td>1</td>\n",
       "      <td>4</td>\n",
       "    </tr>\n",
       "    <tr>\n",
       "      <th>5998</th>\n",
       "      <td>9455</td>\n",
       "      <td>Bauchi</td>\n",
       "      <td>Flat</td>\n",
       "      <td>3</td>\n",
       "      <td>7</td>\n",
       "      <td>5</td>\n",
       "    </tr>\n",
       "    <tr>\n",
       "      <th>5999</th>\n",
       "      <td>11736</td>\n",
       "      <td>Sokoto</td>\n",
       "      <td>Mansion</td>\n",
       "      <td>6</td>\n",
       "      <td>1</td>\n",
       "      <td>6</td>\n",
       "    </tr>\n",
       "  </tbody>\n",
       "</table>\n",
       "<p>6000 rows × 6 columns</p>\n",
       "</div>"
      ],
      "text/plain": [
       "         ID      loc                 title  bedroom  bathroom  parking_space\n",
       "0       845     Kano             Penthouse        4         1              2\n",
       "1      1924  Adamawa             Apartment        2         2              4\n",
       "2     10718  Adamawa              Bungalow        2         7              2\n",
       "3     12076    Lagos               Mansion        9         5              2\n",
       "4     12254    Gombe  Semi-detached duplex        5         6              1\n",
       "...     ...      ...                   ...      ...       ...            ...\n",
       "5995   1594    Ekiti                  Flat        4         5              2\n",
       "5996   2416  Adamawa        Terrace duplex        5         7              1\n",
       "5997  10195      Oyo             Townhouse        4         1              4\n",
       "5998   9455   Bauchi                  Flat        3         7              5\n",
       "5999  11736   Sokoto               Mansion        6         1              6\n",
       "\n",
       "[6000 rows x 6 columns]"
      ]
     },
     "execution_count": 108,
     "metadata": {},
     "output_type": "execute_result"
    }
   ],
   "source": [
    "test = pd.read_csv('Housing_dataset_test.csv')\n",
    "test"
   ]
  },
  {
   "cell_type": "code",
   "execution_count": 109,
   "id": "22572df3",
   "metadata": {},
   "outputs": [],
   "source": [
    "state = pd.get_dummies(test['loc'])\n",
    "types = pd.get_dummies(test['title'])\n",
    "test = pd.concat([test, state, types], axis =1)"
   ]
  },
  {
   "cell_type": "code",
   "execution_count": 110,
   "id": "aaf59b9f",
   "metadata": {},
   "outputs": [],
   "source": [
    "x = test.drop(['ID', 'loc', 'title'], axis=1)\n",
    "ID = test['ID']"
   ]
  },
  {
   "cell_type": "code",
   "execution_count": 111,
   "id": "0d597d87",
   "metadata": {},
   "outputs": [
    {
     "name": "stderr",
     "output_type": "stream",
     "text": [
      "C:\\Users\\kikio\\anaconda3\\lib\\site-packages\\sklearn\\base.py:413: UserWarning: X has feature names, but LinearRegression was fitted without feature names\n",
      "  warnings.warn(\n"
     ]
    }
   ],
   "source": [
    "price = lr.predict(x)"
   ]
  },
  {
   "cell_type": "code",
   "execution_count": 112,
   "id": "08441152",
   "metadata": {},
   "outputs": [],
   "source": [
    "prices = price.tolist()\n",
    "pred = [j[0] for j in [i for i in prices]]"
   ]
  },
  {
   "cell_type": "code",
   "execution_count": 113,
   "id": "a65673b3",
   "metadata": {},
   "outputs": [],
   "source": [
    "new = pd.Series(pred, name='price')"
   ]
  },
  {
   "cell_type": "code",
   "execution_count": 114,
   "id": "c64160ee",
   "metadata": {},
   "outputs": [
    {
     "data": {
      "text/plain": [
       "0       2329704.0\n",
       "1        935888.0\n",
       "2       1283496.0\n",
       "3       6441400.0\n",
       "4       1911088.0\n",
       "          ...    \n",
       "5995    1740312.0\n",
       "5996    2067408.0\n",
       "5997    2075512.0\n",
       "5998    1456368.0\n",
       "5999    3452568.0\n",
       "Name: price, Length: 6000, dtype: float64"
      ]
     },
     "execution_count": 114,
     "metadata": {},
     "output_type": "execute_result"
    }
   ],
   "source": [
    "new"
   ]
  },
  {
   "cell_type": "code",
   "execution_count": 115,
   "id": "9cb176c8",
   "metadata": {},
   "outputs": [],
   "source": [
    "ID = pd.concat([ID, new], axis=1)"
   ]
  },
  {
   "cell_type": "code",
   "execution_count": 116,
   "id": "25ae43a7",
   "metadata": {},
   "outputs": [
    {
     "data": {
      "text/html": [
       "<div>\n",
       "<style scoped>\n",
       "    .dataframe tbody tr th:only-of-type {\n",
       "        vertical-align: middle;\n",
       "    }\n",
       "\n",
       "    .dataframe tbody tr th {\n",
       "        vertical-align: top;\n",
       "    }\n",
       "\n",
       "    .dataframe thead th {\n",
       "        text-align: right;\n",
       "    }\n",
       "</style>\n",
       "<table border=\"1\" class=\"dataframe\">\n",
       "  <thead>\n",
       "    <tr style=\"text-align: right;\">\n",
       "      <th></th>\n",
       "      <th>ID</th>\n",
       "      <th>price</th>\n",
       "    </tr>\n",
       "  </thead>\n",
       "  <tbody>\n",
       "    <tr>\n",
       "      <th>0</th>\n",
       "      <td>845</td>\n",
       "      <td>2329704.0</td>\n",
       "    </tr>\n",
       "    <tr>\n",
       "      <th>1</th>\n",
       "      <td>1924</td>\n",
       "      <td>935888.0</td>\n",
       "    </tr>\n",
       "    <tr>\n",
       "      <th>2</th>\n",
       "      <td>10718</td>\n",
       "      <td>1283496.0</td>\n",
       "    </tr>\n",
       "    <tr>\n",
       "      <th>3</th>\n",
       "      <td>12076</td>\n",
       "      <td>6441400.0</td>\n",
       "    </tr>\n",
       "    <tr>\n",
       "      <th>4</th>\n",
       "      <td>12254</td>\n",
       "      <td>1911088.0</td>\n",
       "    </tr>\n",
       "    <tr>\n",
       "      <th>...</th>\n",
       "      <td>...</td>\n",
       "      <td>...</td>\n",
       "    </tr>\n",
       "    <tr>\n",
       "      <th>5995</th>\n",
       "      <td>1594</td>\n",
       "      <td>1740312.0</td>\n",
       "    </tr>\n",
       "    <tr>\n",
       "      <th>5996</th>\n",
       "      <td>2416</td>\n",
       "      <td>2067408.0</td>\n",
       "    </tr>\n",
       "    <tr>\n",
       "      <th>5997</th>\n",
       "      <td>10195</td>\n",
       "      <td>2075512.0</td>\n",
       "    </tr>\n",
       "    <tr>\n",
       "      <th>5998</th>\n",
       "      <td>9455</td>\n",
       "      <td>1456368.0</td>\n",
       "    </tr>\n",
       "    <tr>\n",
       "      <th>5999</th>\n",
       "      <td>11736</td>\n",
       "      <td>3452568.0</td>\n",
       "    </tr>\n",
       "  </tbody>\n",
       "</table>\n",
       "<p>6000 rows × 2 columns</p>\n",
       "</div>"
      ],
      "text/plain": [
       "         ID      price\n",
       "0       845  2329704.0\n",
       "1      1924   935888.0\n",
       "2     10718  1283496.0\n",
       "3     12076  6441400.0\n",
       "4     12254  1911088.0\n",
       "...     ...        ...\n",
       "5995   1594  1740312.0\n",
       "5996   2416  2067408.0\n",
       "5997  10195  2075512.0\n",
       "5998   9455  1456368.0\n",
       "5999  11736  3452568.0\n",
       "\n",
       "[6000 rows x 2 columns]"
      ]
     },
     "execution_count": 116,
     "metadata": {},
     "output_type": "execute_result"
    }
   ],
   "source": [
    "ID"
   ]
  },
  {
   "cell_type": "code",
   "execution_count": 117,
   "id": "92b27de4",
   "metadata": {},
   "outputs": [],
   "source": [
    "Solution = ID.to_csv('Solution.csv', sep=',', encoding='utf-8', index=False)"
   ]
  },
  {
   "cell_type": "code",
   "execution_count": null,
   "id": "db31f74e",
   "metadata": {},
   "outputs": [],
   "source": []
  },
  {
   "cell_type": "code",
   "execution_count": null,
   "id": "fa490e2e",
   "metadata": {},
   "outputs": [],
   "source": []
  }
 ],
 "metadata": {
  "kernelspec": {
   "display_name": "Python 3 (ipykernel)",
   "language": "python",
   "name": "python3"
  },
  "language_info": {
   "codemirror_mode": {
    "name": "ipython",
    "version": 3
   },
   "file_extension": ".py",
   "mimetype": "text/x-python",
   "name": "python",
   "nbconvert_exporter": "python",
   "pygments_lexer": "ipython3",
   "version": "3.10.9"
  }
 },
 "nbformat": 4,
 "nbformat_minor": 5
}
